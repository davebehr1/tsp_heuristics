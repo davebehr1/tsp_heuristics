{
 "cells": [
  {
   "cell_type": "code",
   "execution_count": 1,
   "metadata": {},
   "outputs": [],
   "source": [
    "from math import pi, sqrt, cos, sin, acos\n",
    "from numpy import around"
   ]
  },
  {
   "cell_type": "code",
   "execution_count": 2,
   "metadata": {},
   "outputs": [],
   "source": [
    "class Euc_2D:\n",
    "    def __init__(self, x=None, y=None):\n",
    "        self.x = x\n",
    "        self.y = y\n",
    "\n",
    "    def __sub__(self, other):\n",
    "        return Euc_2D(self.x - other.x, self.y - other.y)\n",
    "\n",
    "    def norm(self):\n",
    "        return sqrt(self.x ** 2 + self.y ** 2)"
   ]
  },
  {
   "cell_type": "code",
   "execution_count": 8,
   "metadata": {},
   "outputs": [],
   "source": [
    "class GeoCoord:\n",
    "    def __init__(self, degrees=None, minutes=None):\n",
    "        if degrees < 0:\n",
    "            (self.degrees, self.minutes) = (degrees, -1 * minutes)\n",
    "        else:\n",
    "            (self.degrees, self.minutes) = (degrees, minutes)\n",
    "\n",
    "    def toRadians(self):\n",
    "        return (self.degrees + self.minutes / 60) * pi / 180.0"
   ]
  },
  {
   "cell_type": "code",
   "execution_count": 4,
   "metadata": {},
   "outputs": [],
   "source": [
    "class GeoCity:\n",
    "    def __init__(self, lat=None, lon=None):\n",
    "        self.lat = lat.toRadians()\n",
    "        self.lon = lon.toRadians()\n",
    "\n",
    "    def coord_tuple(self):\n",
    "        return (self.lat, self.lon)"
   ]
  },
  {
   "cell_type": "code",
   "execution_count": 5,
   "metadata": {},
   "outputs": [],
   "source": [
    "def euc_2d_distance(city1, city2):\n",
    "    return int(around((city1 - city2).norm()))"
   ]
  },
  {
   "cell_type": "code",
   "execution_count": 6,
   "metadata": {},
   "outputs": [],
   "source": [
    "def geo_distance(city1, city2):\n",
    "    (lat1, lon1) = city1.coord_tuple()\n",
    "    (lat2, lon2) = city2.coord_tuple()\n",
    "\n",
    "    if lat1 == lat2 and lon1 == lon2:\n",
    "        return 0\n",
    "    else:\n",
    "        q1 = cos(lon1 - lon2)\n",
    "        q2 = cos(lat1 - lat2)\n",
    "        q3 = cos(lat1 + lat2)\n",
    "        radius = 6378.388\n",
    "\n",
    "        # distance formula originates from the TSPLIB 95 documentation\n",
    "        distance = radius * acos(1 / 2 * ((1 + q1) * q2 - (1 - q1) * q3)) + 1\n",
    "        return int(distance)  # truncate (toward zero), as per TSPLIB 95"
   ]
  },
  {
   "cell_type": "code",
   "execution_count": 7,
   "metadata": {},
   "outputs": [],
   "source": [
    "def distance(city1, city2):\n",
    "    if type(city1) != type(city2):\n",
    "        print(\"Can't calculate distance between cities: different coord types\")\n",
    "    elif type(city1) == GeoCity:\n",
    "        return geo_distance(city1, city2)\n",
    "    elif type(city1) == Euc_2D:\n",
    "        return euc_2d_distance(city1, city2)"
   ]
  }
 ],
 "metadata": {
  "kernelspec": {
   "display_name": "Python 3",
   "language": "python",
   "name": "python3"
  },
  "language_info": {
   "codemirror_mode": {
    "name": "ipython",
    "version": 3
   },
   "file_extension": ".py",
   "mimetype": "text/x-python",
   "name": "python",
   "nbconvert_exporter": "python",
   "pygments_lexer": "ipython3",
   "version": "3.6.12"
  }
 },
 "nbformat": 4,
 "nbformat_minor": 4
}
