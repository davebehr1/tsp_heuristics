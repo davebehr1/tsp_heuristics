{
 "cells": [
  {
   "cell_type": "code",
   "execution_count": 1,
   "metadata": {},
   "outputs": [],
   "source": [
    "import pandas as pd\n",
    "import operator\n",
    "from random import randint, random, seed\n",
    "from copy import deepcopy\n",
    "import matplotlib.pyplot as plt"
   ]
  },
  {
   "cell_type": "code",
   "execution_count": 2,
   "metadata": {},
   "outputs": [],
   "source": [
    "data = pd.read_csv(                                                                                  \n",
    "    \"auto-mpg.data\", delim_whitespace=True, na_values=\"?\", header=None,                              \n",
    "    names=[\"mpg\", \"cylinders\", \"displacement\", \"horsepower\", \"weight\",                               \n",
    "           \"acceleration\", \"model year\", \"origin\", \"car name\", ]) "
   ]
  },
  {
   "cell_type": "code",
   "execution_count": 3,
   "metadata": {},
   "outputs": [
    {
     "data": {
      "text/html": [
       "<div>\n",
       "<style scoped>\n",
       "    .dataframe tbody tr th:only-of-type {\n",
       "        vertical-align: middle;\n",
       "    }\n",
       "\n",
       "    .dataframe tbody tr th {\n",
       "        vertical-align: top;\n",
       "    }\n",
       "\n",
       "    .dataframe thead th {\n",
       "        text-align: right;\n",
       "    }\n",
       "</style>\n",
       "<table border=\"1\" class=\"dataframe\">\n",
       "  <thead>\n",
       "    <tr style=\"text-align: right;\">\n",
       "      <th></th>\n",
       "      <th>mpg</th>\n",
       "      <th>cylinders</th>\n",
       "      <th>displacement</th>\n",
       "      <th>horsepower</th>\n",
       "      <th>weight</th>\n",
       "      <th>acceleration</th>\n",
       "      <th>model year</th>\n",
       "      <th>origin</th>\n",
       "      <th>car name</th>\n",
       "    </tr>\n",
       "  </thead>\n",
       "  <tbody>\n",
       "    <tr>\n",
       "      <th>0</th>\n",
       "      <td>18.0</td>\n",
       "      <td>8</td>\n",
       "      <td>307.0</td>\n",
       "      <td>130.0</td>\n",
       "      <td>3504.0</td>\n",
       "      <td>12.0</td>\n",
       "      <td>70</td>\n",
       "      <td>1</td>\n",
       "      <td>chevrolet chevelle malibu</td>\n",
       "    </tr>\n",
       "    <tr>\n",
       "      <th>1</th>\n",
       "      <td>15.0</td>\n",
       "      <td>8</td>\n",
       "      <td>350.0</td>\n",
       "      <td>165.0</td>\n",
       "      <td>3693.0</td>\n",
       "      <td>11.5</td>\n",
       "      <td>70</td>\n",
       "      <td>1</td>\n",
       "      <td>buick skylark 320</td>\n",
       "    </tr>\n",
       "    <tr>\n",
       "      <th>2</th>\n",
       "      <td>18.0</td>\n",
       "      <td>8</td>\n",
       "      <td>318.0</td>\n",
       "      <td>150.0</td>\n",
       "      <td>3436.0</td>\n",
       "      <td>11.0</td>\n",
       "      <td>70</td>\n",
       "      <td>1</td>\n",
       "      <td>plymouth satellite</td>\n",
       "    </tr>\n",
       "    <tr>\n",
       "      <th>3</th>\n",
       "      <td>16.0</td>\n",
       "      <td>8</td>\n",
       "      <td>304.0</td>\n",
       "      <td>150.0</td>\n",
       "      <td>3433.0</td>\n",
       "      <td>12.0</td>\n",
       "      <td>70</td>\n",
       "      <td>1</td>\n",
       "      <td>amc rebel sst</td>\n",
       "    </tr>\n",
       "    <tr>\n",
       "      <th>4</th>\n",
       "      <td>17.0</td>\n",
       "      <td>8</td>\n",
       "      <td>302.0</td>\n",
       "      <td>140.0</td>\n",
       "      <td>3449.0</td>\n",
       "      <td>10.5</td>\n",
       "      <td>70</td>\n",
       "      <td>1</td>\n",
       "      <td>ford torino</td>\n",
       "    </tr>\n",
       "  </tbody>\n",
       "</table>\n",
       "</div>"
      ],
      "text/plain": [
       "    mpg  cylinders  displacement  horsepower  weight  acceleration  \\\n",
       "0  18.0          8         307.0       130.0  3504.0          12.0   \n",
       "1  15.0          8         350.0       165.0  3693.0          11.5   \n",
       "2  18.0          8         318.0       150.0  3436.0          11.0   \n",
       "3  16.0          8         304.0       150.0  3433.0          12.0   \n",
       "4  17.0          8         302.0       140.0  3449.0          10.5   \n",
       "\n",
       "   model year  origin                   car name  \n",
       "0          70       1  chevrolet chevelle malibu  \n",
       "1          70       1          buick skylark 320  \n",
       "2          70       1         plymouth satellite  \n",
       "3          70       1              amc rebel sst  \n",
       "4          70       1                ford torino  "
      ]
     },
     "execution_count": 3,
     "metadata": {},
     "output_type": "execute_result"
    }
   ],
   "source": [
    "data.head()"
   ]
  },
  {
   "cell_type": "code",
   "execution_count": 4,
   "metadata": {},
   "outputs": [
    {
     "data": {
      "text/plain": [
       "0      chevrolet chevelle malibu\n",
       "1              buick skylark 320\n",
       "2             plymouth satellite\n",
       "3                  amc rebel sst\n",
       "4                    ford torino\n",
       "                 ...            \n",
       "393              ford mustang gl\n",
       "394                    vw pickup\n",
       "395                dodge rampage\n",
       "396                  ford ranger\n",
       "397                   chevy s-10\n",
       "Name: car name, Length: 398, dtype: object"
      ]
     },
     "execution_count": 4,
     "metadata": {},
     "output_type": "execute_result"
    }
   ],
   "source": [
    "data.pop(\"car name\")"
   ]
  },
  {
   "cell_type": "code",
   "execution_count": 5,
   "metadata": {},
   "outputs": [],
   "source": [
    "data[\"horsepower\"].fillna(data[\"horsepower\"].median(),inplace=True)"
   ]
  },
  {
   "cell_type": "code",
   "execution_count": 6,
   "metadata": {},
   "outputs": [],
   "source": [
    "target = data.pop(\"mpg\")"
   ]
  },
  {
   "cell_type": "code",
   "execution_count": 7,
   "metadata": {},
   "outputs": [],
   "source": [
    "val1={'feature_name':\"horsepower\"}\n",
    "val2={\"feature_name\":\"cylinders\"}\n",
    "val3={\"feature_name\":\"weight\"}\n",
    "node1 ={\n",
    "    \"func\":operator.add,\n",
    "    \"children\":[val1,val2],\n",
    "    \"format_str\":\"({} +{})\",\n",
    "}\n",
    "program={\n",
    "    \"func\":operator.mul,\n",
    "    \"children\":[node1,val3],\n",
    "    \"format_str\":\"({} * {})\",\n",
    "}"
   ]
  },
  {
   "cell_type": "code",
   "execution_count": 8,
   "metadata": {},
   "outputs": [],
   "source": [
    "def render_prog(node):\n",
    "    if \"children\" not in node:\n",
    "        return node['feature_name']\n",
    "    return node['format_str'].format(*[render_prog(c) for c in node[\"children\"]])"
   ]
  },
  {
   "cell_type": "code",
   "execution_count": 9,
   "metadata": {},
   "outputs": [
    {
     "name": "stdout",
     "output_type": "stream",
     "text": [
      "((horsepower +cylinders) * weight)\n"
     ]
    }
   ],
   "source": [
    "print(render_prog(program))"
   ]
  },
  {
   "cell_type": "code",
   "execution_count": 10,
   "metadata": {},
   "outputs": [],
   "source": [
    "def evaluate(node,row):\n",
    "    if \"children\" not in node:\n",
    "        return row[node[\"feature_name\"]]\n",
    "    #the asterix unpacks the arguments\n",
    "    return node[\"func\"](*[evaluate(c,row) for c in node[\"children\"]])\n"
   ]
  },
  {
   "cell_type": "code",
   "execution_count": 11,
   "metadata": {},
   "outputs": [
    {
     "name": "stdout",
     "output_type": "stream",
     "text": [
      "483552.0\n"
     ]
    }
   ],
   "source": [
    "print(evaluate(program,data.iloc[0]))"
   ]
  },
  {
   "cell_type": "code",
   "execution_count": 12,
   "metadata": {},
   "outputs": [],
   "source": [
    "def safe_div(a,b):\n",
    "    return a/b if b else a"
   ]
  },
  {
   "cell_type": "code",
   "execution_count": 13,
   "metadata": {},
   "outputs": [],
   "source": [
    "operations = (                                                                                       \n",
    "    {\"func\": operator.add, \"arg_count\": 2, \"format_str\": \"({} + {})\"},                               \n",
    "    {\"func\": operator.sub, \"arg_count\": 2, \"format_str\": \"({} - {})\"},                               \n",
    "    {\"func\": operator.mul, \"arg_count\": 2, \"format_str\": \"({} * {})\"},                               \n",
    "    {\"func\": safe_div, \"arg_count\": 2, \"format_str\": \"({} / {})\"},                                   \n",
    "    {\"func\": operator.neg, \"arg_count\": 1, \"format_str\": \"-({})\"},                                   \n",
    ")"
   ]
  },
  {
   "cell_type": "code",
   "execution_count": 14,
   "metadata": {},
   "outputs": [],
   "source": [
    "seed(0)"
   ]
  },
  {
   "cell_type": "code",
   "execution_count": 15,
   "metadata": {},
   "outputs": [],
   "source": [
    "def random_prog(depth):                                                                              \n",
    "    # favor adding function nodes near the tree root and \n",
    "    # leaf nodes as depth increases                           \n",
    "    if randint(0, 10) >= depth * 2:                                                                  \n",
    "        op = operations[randint(0, len(operations) - 1)]                                             \n",
    "        return {                                                                                     \n",
    "            \"func\": op[\"func\"],                                                                      \n",
    "            \"children\": [random_prog(depth + 1) for _ in range(op[\"arg_count\"])],                    \n",
    "            \"format_str\": op[\"format_str\"],                                                          \n",
    "        }                                                                                            \n",
    "    else:                                                                                            \n",
    "        return {\"feature_name\": data.columns[randint(0, data.shape[1] - 1)]}"
   ]
  },
  {
   "cell_type": "code",
   "execution_count": 16,
   "metadata": {},
   "outputs": [],
   "source": [
    "POP_SIZE = 300                                                                                       \n",
    "population = [random_prog(0) for _ in range(POP_SIZE)]   "
   ]
  },
  {
   "cell_type": "code",
   "execution_count": 17,
   "metadata": {},
   "outputs": [
    {
     "name": "stdout",
     "output_type": "stream",
     "text": [
      "(horsepower / ((((displacement - displacement) * acceleration) * acceleration) / (cylinders - origin)))\n"
     ]
    }
   ],
   "source": [
    "print(render_prog(population[0]))"
   ]
  },
  {
   "cell_type": "code",
   "execution_count": 18,
   "metadata": {},
   "outputs": [],
   "source": [
    "def select_random_node(selected, parent, depth):                                                     \n",
    "    if \"children\" not in selected:                                                                   \n",
    "        return parent                                                                                \n",
    "    # favor nodes near the root                                                                      \n",
    "    if randint(0, 10) < 2*depth:                                                                     \n",
    "        return selected                                                                              \n",
    "    child_count = len(selected[\"children\"])                                                          \n",
    "    return select_random_node(\n",
    "        selected[\"children\"][randint(0, child_count - 1)], \n",
    "        selected, depth+1)"
   ]
  },
  {
   "cell_type": "code",
   "execution_count": 19,
   "metadata": {},
   "outputs": [
    {
     "name": "stdout",
     "output_type": "stream",
     "text": [
      "((horsepower +cylinders) * weight)\n"
     ]
    }
   ],
   "source": [
    "print(render_prog(select_random_node(program, None, 0)))"
   ]
  },
  {
   "cell_type": "code",
   "execution_count": 20,
   "metadata": {},
   "outputs": [],
   "source": [
    "def do_mutate(selected):\n",
    "    offspring = deepcopy(selected)\n",
    "    mutate_point = select_random_node(offspring, None, 0)\n",
    "    child_count = len(mutate_point[\"children\"])\n",
    "    mutate_point[\"children\"][randint(0, child_count - 1)] = random_prog(0)\n",
    "    return offspring"
   ]
  },
  {
   "cell_type": "code",
   "execution_count": 21,
   "metadata": {},
   "outputs": [
    {
     "name": "stdout",
     "output_type": "stream",
     "text": [
      "(((-(displacement) - (weight / (origin / weight))) +cylinders) * weight)\n"
     ]
    }
   ],
   "source": [
    "print(render_prog(do_mutate(program)))"
   ]
  },
  {
   "cell_type": "code",
   "execution_count": 22,
   "metadata": {},
   "outputs": [],
   "source": [
    "def do_xover(selected1, selected2):                                                                  \n",
    "    offspring = deepcopy(selected1)                                                                  \n",
    "    xover_point1 = select_random_node(offspring, None, 0)                                            \n",
    "    xover_point2 = select_random_node(selected2, None, 0)                                            \n",
    "    child_count = len(xover_point1[\"children\"])                                                      \n",
    "    xover_point1[\"children\"][randint(0, child_count - 1)] = xover_point2                             \n",
    "    return offspring "
   ]
  },
  {
   "cell_type": "code",
   "execution_count": 23,
   "metadata": {},
   "outputs": [
    {
     "name": "stdout",
     "output_type": "stream",
     "text": [
      "(horsepower / (((-(horsepower) * acceleration) * acceleration) / (cylinders - origin)))\n"
     ]
    }
   ],
   "source": [
    "print(render_prog(do_xover(population[0], population[1]))) "
   ]
  },
  {
   "cell_type": "code",
   "execution_count": 24,
   "metadata": {},
   "outputs": [],
   "source": [
    "TOURNAMENT_SIZE = 3"
   ]
  },
  {
   "cell_type": "code",
   "execution_count": 25,
   "metadata": {},
   "outputs": [],
   "source": [
    "def get_random_parent(population, fitness):                                                          \n",
    "    # randomly select population members for the tournament                                          \n",
    "    tournament_members = [\n",
    "        randint(0, POP_SIZE - 1) for _ in range(TOURNAMENT_SIZE)]                  \n",
    "    # select tournament member with best fitness                                                     \n",
    "    member_fitness = [(fitness[i], population[i]) for i in tournament_members]                       \n",
    "    return min(member_fitness, key=lambda x: x[0])[1]"
   ]
  },
  {
   "cell_type": "code",
   "execution_count": 26,
   "metadata": {},
   "outputs": [],
   "source": [
    "XOVER_PCT = 0.7 "
   ]
  },
  {
   "cell_type": "code",
   "execution_count": 27,
   "metadata": {},
   "outputs": [],
   "source": [
    "def get_offspring(population, fitness):                                                              \n",
    "    parent1 = get_random_parent(population, fitness)                                                 \n",
    "    if random() > XOVER_PCT:                                                                         \n",
    "        parent2 = get_random_parent(population, fitness)                                             \n",
    "        return do_xover(parent1, parent2)                                                            \n",
    "    else:                                                                                            \n",
    "        return do_mutate(parent1) "
   ]
  },
  {
   "cell_type": "code",
   "execution_count": 28,
   "metadata": {},
   "outputs": [],
   "source": [
    "REG_STRENGTH = 0.5 "
   ]
  },
  {
   "cell_type": "code",
   "execution_count": 29,
   "metadata": {},
   "outputs": [],
   "source": [
    "def node_count(x):                                                                                   \n",
    "    if \"children\" not in x:                                                                          \n",
    "        return 1                                                                                     \n",
    "    return sum([node_count(c) for c in x[\"children\"]])    "
   ]
  },
  {
   "cell_type": "code",
   "execution_count": 30,
   "metadata": {},
   "outputs": [],
   "source": [
    "def compute_fitness(program, prediction):                                                            \n",
    "    mse = ((pd.Series(prediction) - target) ** 2).mean()                                             \n",
    "    penalty = node_count(program) ** REG_STRENGTH                                                    \n",
    "    return mse * penalty "
   ]
  },
  {
   "cell_type": "code",
   "execution_count": 31,
   "metadata": {},
   "outputs": [
    {
     "name": "stdout",
     "output_type": "stream",
     "text": [
      "Generation: 0\n",
      "Best Score: 106.60\n",
      "Median score: 439225.90\n",
      "Best program: (cylinders - -(acceleration))\n",
      "\n",
      "Generation: 1\n",
      "Best Score: 86.05\n",
      "Median score: 4393.05\n",
      "Best program: ((origin * cylinders) + acceleration)\n",
      "\n",
      "Generation: 2\n",
      "Best Score: 84.32\n",
      "Median score: 2531.16\n",
      "Best program: (origin - -((weight / displacement)))\n",
      "\n",
      "Generation: 3\n",
      "Best Score: 84.32\n",
      "Median score: 2377.53\n",
      "Best program: (origin - -((weight / displacement)))\n",
      "\n",
      "Generation: 4\n",
      "Best Score: 84.32\n",
      "Median score: 2213.35\n",
      "Best program: (origin - -((weight / displacement)))\n",
      "\n",
      "Generation: 5\n",
      "Best Score: 84.32\n",
      "Median score: 2295.95\n",
      "Best program: (origin - -((weight / displacement)))\n",
      "\n",
      "Generation: 6\n",
      "Best Score: 84.32\n",
      "Median score: 2525.15\n",
      "Best program: (origin - -((weight / displacement)))\n",
      "\n",
      "Generation: 7\n",
      "Best Score: 84.32\n",
      "Median score: 2364.86\n",
      "Best program: (origin - -((weight / displacement)))\n",
      "\n",
      "Generation: 8\n",
      "Best Score: 84.32\n",
      "Median score: 2518.05\n",
      "Best program: (origin - -((weight / displacement)))\n",
      "\n",
      "Generation: 9\n",
      "Best Score: 84.32\n",
      "Median score: 2605.58\n",
      "Best program: (origin - -((weight / displacement)))\n",
      "\n",
      "Generation: 10\n",
      "Best Score: 84.32\n",
      "Median score: 2604.44\n",
      "Best program: (origin - -((weight / displacement)))\n",
      "\n",
      "Generation: 11\n",
      "Best Score: 84.32\n",
      "Median score: 2377.52\n",
      "Best program: (origin - -((weight / displacement)))\n",
      "\n",
      "Generation: 12\n",
      "Best Score: 84.32\n",
      "Median score: 2742.37\n",
      "Best program: (origin - -((weight / displacement)))\n",
      "\n",
      "Best score: 84.320464\n",
      "Best program: (origin - -((weight / displacement)))\n"
     ]
    }
   ],
   "source": [
    "MAX_GENERATIONS = 13\n",
    "global_best = float(\"inf\") \n",
    "best_scores = []\n",
    "for gen in range(MAX_GENERATIONS): \n",
    "    fitness = []                                                                                     \n",
    "    for prog in population:\n",
    "        prediction = [                                                                               \n",
    "            evaluate(prog, row) for _, row in data.iterrows()]                                       \n",
    "        score = compute_fitness(prog, prediction) \n",
    "        fitness.append(score)\n",
    "        if score < global_best:                                                                      \n",
    "            global_best = score                                                                      \n",
    "            best_pred = prediction                                                                   \n",
    "            best_prog = prog \n",
    "            \n",
    "    best_scores.append(global_best)\n",
    "    print(                                                                                           \n",
    "        \"Generation: %d\\nBest Score: %.2f\\nMedian score: %.2f\\nBest program: %s\\n\"                   \n",
    "        % (                                                                                          \n",
    "            gen,                                                                                     \n",
    "            global_best,                                                                             \n",
    "            pd.Series(fitness).median(),                                                             \n",
    "            render_prog(best_prog),                                                                  \n",
    "        )                                                                                            \n",
    "    ) \n",
    "    population = [                                                                                   \n",
    "        get_offspring(population, fitness)                                                           \n",
    "        for _ in range(POP_SIZE)]\n",
    "    \n",
    "print(\"Best score: %f\" % global_best) \n",
    "\n",
    "print(\"Best program: %s\" % render_prog(best_prog))                                                   \n",
    "output = {\"target\": target, \"pred\": best_pred}                                                       \n",
    "pd.DataFrame(output).to_csv(\"best_pred.csv\")  \n"
   ]
  },
  {
   "cell_type": "code",
   "execution_count": 32,
   "metadata": {},
   "outputs": [
    {
     "data": {
      "image/png": "[encoded data removed]",
      "text/plain": [
       "<Figure size 432x288 with 1 Axes>"
      ]
     },
     "metadata": {
      "needs_background": "light"
     },
     "output_type": "display_data"
    }
   ],
   "source": [
    "fig = plt.figure()\n",
    "plt.plot(best_scores)\n",
    "plt.show()"
   ]
  },
  {
   "cell_type": "code",
   "execution_count": null,
   "metadata": {},
   "outputs": [],
   "source": [
    "len(best_scores)"
   ]
  },
  {
   "cell_type": "code",
   "execution_count": null,
   "metadata": {},
   "outputs": [],
   "source": []
  }
 ],
 "metadata": {
  "kernelspec": {
   "display_name": "Python 3",
   "language": "python",
   "name": "python3"
  },
  "language_info": {
   "codemirror_mode": {
    "name": "ipython",
    "version": 3
   },
   "file_extension": ".py",
   "mimetype": "text/x-python",
   "name": "python",
   "nbconvert_exporter": "python",
   "pygments_lexer": "ipython3",
   "version": "3.6.12"
  }
 },
 "nbformat": 4,
 "nbformat_minor": 4
}
