{
 "cells": [
  {
   "cell_type": "code",
   "execution_count": 2,
   "metadata": {},
   "outputs": [],
   "source": [
    "import numpy as np\n",
    "import math\n",
    "import operator\n",
    "import networkx as nx\n",
    "from networkx.algorithms import approximation as approx\n",
    "from itertools import permutations\n",
    "import matplotlib.pyplot as plt\n",
    "from deap import creator, base, tools, algorithms,gp\n",
    "import dimod\n",
    "import dwave_networkx as dnx\n",
    "import import_ipynb\n",
    "import tsp_parser\n",
    "from tsp_parser import read_tsp_file\n",
    "from operator import itemgetter\n",
    "from IPython.display import Image \n",
    "import copy\n",
    "import pickle\n",
    "from tqdm import tqdm\n",
    "import tsplib95\n",
    "import tspsolve"
   ]
  },
  {
   "cell_type": "code",
   "execution_count": 3,
   "metadata": {},
   "outputs": [],
   "source": [
    "tsp = read_tsp_file('./symmetric_problems/berlin52.tsp')"
   ]
  },
  {
   "cell_type": "code",
   "execution_count": 4,
   "metadata": {},
   "outputs": [],
   "source": [
    "problem = tsplib95.load('./symmetric_problems/berlin52.tsp')\n",
    "# problem = tsplib95.load('./symmetric_problems/berlin52.tsp')\n",
    "G = problem.get_graph()\n",
    "# tsp_problem = problem.as_keyword_dict()\n",
    "# list(problem.get_nodes())"
   ]
  },
  {
   "cell_type": "code",
   "execution_count": 5,
   "metadata": {},
   "outputs": [],
   "source": [
    "distance_matrix = nx.to_numpy_matrix(G)"
   ]
  },
  {
   "cell_type": "code",
   "execution_count": 6,
   "metadata": {},
   "outputs": [
    {
     "data": {
      "text/plain": [
       "True"
      ]
     },
     "execution_count": 6,
     "metadata": {},
     "output_type": "execute_result"
    }
   ],
   "source": [
    "problem.is_complete()"
   ]
  },
  {
   "cell_type": "code",
   "execution_count": 7,
   "metadata": {},
   "outputs": [],
   "source": [
    "def DrawGraph(G,color):\n",
    "    pos = nx.spring_layout(G)\n",
    "    nx.draw(G, pos, with_labels = True, edge_color = color)  #with_labels=true is to show the node number in the output graph\n",
    "    edge_labels = nx.get_edge_attributes(G,'weight')\n",
    "    nx.draw_networkx_edge_labels(G, pos, edge_labels = edge_labels,  font_size = 11) #prints weight on all the edges\n",
    "    return pos"
   ]
  },
  {
   "cell_type": "code",
   "execution_count": null,
   "metadata": {},
   "outputs": [],
   "source": [
    "def distance(A, B): \n",
    "    \"The Euclidean distance between two cities.\"\n",
    "    return math.sqrt( ((A[0]-B[0])**2)+((A[1]-B[1])**2) )"
   ]
  },
  {
   "cell_type": "code",
   "execution_count": null,
   "metadata": {},
   "outputs": [],
   "source": [
    "def total_distance(G):\n",
    "    total =0\n",
    "    for edge in G.edges: \n",
    "        total += distance(G.nodes[edge[0]][\"pos\"],G.nodes[edge[1]][\"pos\"])\n",
    "    return total"
   ]
  },
  {
   "cell_type": "code",
   "execution_count": null,
   "metadata": {},
   "outputs": [],
   "source": [
    "def shortest_path(G,P):\n",
    "    total =0\n",
    "    for index in range(len(P)-1): \n",
    "        total += distance(G.nodes[P[index]][\"pos\"],G.nodes[P[index +1]][\"pos\"])\n",
    "    return total"
   ]
  },
  {
   "cell_type": "code",
   "execution_count": null,
   "metadata": {},
   "outputs": [],
   "source": [
    "def create_graph(cities):\n",
    "    G = nx.Graph()  \n",
    "    G=nx.complete_graph(len(cities))\n",
    "    for index,city in enumerate(cities):\n",
    "        G.nodes[index]['pos'] = (city.x,city.y)\n",
    "    nx.set_edge_attributes(G, values = 1, name = 'weight')\n",
    "    \n",
    "    return G\n",
    "    "
   ]
  },
  {
   "cell_type": "code",
   "execution_count": null,
   "metadata": {},
   "outputs": [],
   "source": [
    "G = create_graph(tsp['CITIES'])"
   ]
  },
  {
   "cell_type": "code",
   "execution_count": null,
   "metadata": {},
   "outputs": [],
   "source": [
    "def create_tour(individual):\n",
    "    G = create_graph(tsp['CITIES'])\n",
    "    G.clear_edges()\n",
    "    for index,city in enumerate(tsp['CITIES']):\n",
    "        G.nodes[index]['pos'] = (city.x,city.y)\n",
    "        \n",
    "    for index in range(len(individual)-1):\n",
    "        G.add_edge(individual[index],individual[index+1])\n",
    "    G.add_edge(individual[len(individual)-1],individual[0])\n",
    "    \n",
    "    return G"
   ]
  },
  {
   "cell_type": "code",
   "execution_count": null,
   "metadata": {},
   "outputs": [],
   "source": [
    "def evaluation(individual):\n",
    "    return (total_distance(create_tour(individual)),)"
   ]
  },
  {
   "cell_type": "code",
   "execution_count": null,
   "metadata": {},
   "outputs": [],
   "source": [
    "def GraphCentroid(G):\n",
    "    x = [G.nodes[p]['pos'][0] for p in G.nodes]\n",
    "    y = [G.nodes[p]['pos'][1] for p in G.nodes]\n",
    "    centroid = (sum(x) / len(G.nodes), sum(y) / len(G.nodes))\n",
    "    return centroid"
   ]
  },
  {
   "cell_type": "code",
   "execution_count": null,
   "metadata": {},
   "outputs": [],
   "source": [
    "def GraphStd(G):\n",
    "    x = [G.nodes[p]['pos'][0] for p in G.nodes]\n",
    "    y = [G.nodes[p]['pos'][1] for p in G.nodes]\n",
    "    return np.std([x,y],axis=0)"
   ]
  },
  {
   "cell_type": "markdown",
   "metadata": {},
   "source": [
    "### GENETIC PROGRAMMING"
   ]
  },
  {
   "cell_type": "code",
   "execution_count": null,
   "metadata": {},
   "outputs": [],
   "source": [
    "pos = DrawGraph(G,'red')"
   ]
  },
  {
   "cell_type": "code",
   "execution_count": null,
   "metadata": {},
   "outputs": [],
   "source": [
    "def plotGraph(G,show_weights=False):\n",
    "    \n",
    "    color_map = []\n",
    "    node_sizes = []\n",
    "    for node in G:\n",
    "        if node == \"center\":\n",
    "            color_map.append('red')\n",
    "            node_sizes.append(800)\n",
    "            \n",
    "        else: \n",
    "            color_map.append('#6b61f4')\n",
    "            node_sizes.append(300)\n",
    "\n",
    "        \n",
    "    pos=nx.get_node_attributes(G,'pos')\n",
    "    nx.draw(G,pos,node_color=color_map,node_size = node_sizes,with_labels=True)\n",
    "    labels = nx.get_edge_attributes(G,'weight')\n",
    "    if show_weights:\n",
    "        nx.draw_networkx_edge_labels(G,pos,edge_labels=labels)\n",
    "\n",
    "    plt.show()"
   ]
  },
  {
   "cell_type": "code",
   "execution_count": null,
   "metadata": {},
   "outputs": [],
   "source": [
    "plotGraph(G)"
   ]
  },
  {
   "cell_type": "code",
   "execution_count": null,
   "metadata": {},
   "outputs": [],
   "source": [
    "print(total_distance(G))"
   ]
  },
  {
   "cell_type": "code",
   "execution_count": null,
   "metadata": {},
   "outputs": [],
   "source": [
    "def Div(left, right):\n",
    "    try:\n",
    "        return left / right\n",
    "    except ZeroDivisionError:\n",
    "        return 1"
   ]
  },
  {
   "cell_type": "code",
   "execution_count": null,
   "metadata": {},
   "outputs": [],
   "source": [
    "def Mod(left, right):\n",
    "    try:\n",
    "        return left % right\n",
    "    except ZeroDivisionError:\n",
    "        return 1"
   ]
  },
  {
   "cell_type": "code",
   "execution_count": null,
   "metadata": {},
   "outputs": [],
   "source": [
    "pset = gp.PrimitiveSet(\"MAIN\",6)\n",
    "pset.addPrimitive(operator.add, 2)\n",
    "pset.addPrimitive(operator.sub, 2)\n",
    "pset.addPrimitive(operator.mul, 2)\n",
    "pset.addPrimitive(Div, 2)\n",
    "pset.addPrimitive(Mod, 2)\n",
    "#Number of nodes in the graph\n",
    "pset.renameArguments(ARG0=\"Nn\")\n",
    "#Number of remaining nodes to visit\n",
    "pset.renameArguments(ARG1=\"Nrn\")\n",
    "#Distance from the current node\n",
    "pset.renameArguments(ARG2=\"Dcn\")\n",
    "#Distance from the initial node\n",
    "pset.renameArguments(ARG3=\"Din\")\n",
    "#Distance from the centroid of the nodes\n",
    "pset.renameArguments(ARG4=\"Dc\")\n",
    "#Predicted distance from the initial node\n",
    "pset.renameArguments(ARG5=\"Pd\")\n",
    "# #Distance left estimation\n",
    "# pset.renameArguments(ARG0=\"Dle\")"
   ]
  },
  {
   "cell_type": "code",
   "execution_count": null,
   "metadata": {},
   "outputs": [],
   "source": [
    "creator.create(\"FitnessMin\", base.Fitness, weights=(-1.0,))"
   ]
  },
  {
   "cell_type": "code",
   "execution_count": null,
   "metadata": {},
   "outputs": [],
   "source": [
    "creator.create(\"Individual\", gp.PrimitiveTree, fitness=creator.FitnessMin)"
   ]
  },
  {
   "cell_type": "code",
   "execution_count": null,
   "metadata": {},
   "outputs": [],
   "source": [
    "def euc_distance(A, B): \n",
    "    return math.sqrt( ((A[0]-B[0])**2)+((A[1]-B[1])**2))"
   ]
  },
  {
   "cell_type": "code",
   "execution_count": null,
   "metadata": {},
   "outputs": [],
   "source": [
    "def nearest_neighbor(current,unvisited_nodes, G):\n",
    "    min_node = min(unvisited_nodes, key=lambda x: euc_distance(G.nodes[x][\"pos\"], G.nodes[current]['pos']))\n",
    "    return min_node"
   ]
  },
  {
   "cell_type": "code",
   "execution_count": null,
   "metadata": {},
   "outputs": [],
   "source": [
    "def greedy_TSP(G,visited):\n",
    "    vis = visited\n",
    "    while len(vis) < len(G.nodes):\n",
    "        C = nearest_neighbor(vis[-1], np.setdiff1d(list(G.nodes),vis),G)\n",
    "        vis.append(C)\n",
    "#     vis.append(vis[0])\n",
    "    score = evaluation(vis)[0]\n",
    "    return vis,score"
   ]
  },
  {
   "cell_type": "code",
   "execution_count": null,
   "metadata": {
    "scrolled": true
   },
   "outputs": [],
   "source": [
    "%%time\n",
    "route,score = greedy_TSP(G,[0])"
   ]
  },
  {
   "cell_type": "code",
   "execution_count": null,
   "metadata": {},
   "outputs": [],
   "source": [
    "score"
   ]
  },
  {
   "cell_type": "code",
   "execution_count": null,
   "metadata": {},
   "outputs": [],
   "source": [
    "def pred_shortest_path(G,visited,node):\n",
    "    unvisited_nodes = np.setdiff1d(list(G.nodes),visited).tolist()\n",
    "    unvisited_nodes.insert(0,0)\n",
    "    sub_G = G.subgraph(unvisited_nodes)\n",
    "    return shortest_path(G,nx.shortest_path(sub_G,source=node,target=0))\n",
    "    #return sub_G"
   ]
  },
  {
   "cell_type": "code",
   "execution_count": null,
   "metadata": {},
   "outputs": [],
   "source": [
    "def evaluate(individual,G):\n",
    "#     G.clear_edges()\n",
    "    tree = gp.PrimitiveTree(individual)\n",
    "    \n",
    "    node_results = [0]\n",
    "    current_node = 0\n",
    "    initial_node =0\n",
    "    visited = [0]\n",
    "    solution = [0]\n",
    "    unvisited = np.setdiff1d(list(G.nodes),visited)\n",
    "    while len(unvisited) > 1:\n",
    "        results = []\n",
    "        for index,node in enumerate(unvisited):\n",
    "            if index not in visited:\n",
    "                Nn = len(G.nodes())\n",
    "                Nrn = len(np.setdiff1d(list(G.nodes),visited))\n",
    "                Dcn = distance(G.nodes[current_node][\"pos\"],G.nodes[node][\"pos\"])\n",
    "                Din = distance(G.nodes[initial_node][\"pos\"],G.nodes[node][\"pos\"])\n",
    "                Dc = distance(GraphCentroid(G),G.nodes[node][\"pos\"])\n",
    "#                Pd = greedy_TSP(G,visited)\n",
    "                #Pd = shortest_path(G,nx.shortest_path(G,source=node,target=0))\n",
    "                Pd = pred_shortest_path(G,visited,node)\n",
    "                result = toolbox.compile(expr=individual)\n",
    "                results.append({\"result\": result(Nn,Nrn,Dcn,Din,Dc,Pd),\"node\":node})\n",
    "        if not results:\n",
    "            break\n",
    "        nearest = min(results, key=lambda x:x['result'])\n",
    "        solution.append(nearest[\"node\"])\n",
    "        current_node = nearest[\"node\"]\n",
    "        visited.append(nearest[\"node\"])\n",
    "        unvisited = np.setdiff1d(list(G.nodes),visited)\n",
    "\n",
    "    solution.append(initial_node)\n",
    "    return shortest_path(G,solution),"
   ]
  },
  {
   "cell_type": "code",
   "execution_count": null,
   "metadata": {},
   "outputs": [],
   "source": [
    "toolbox = base.Toolbox()\n",
    "toolbox.register(\"expr\", gp.genHalfAndHalf, pset=pset, min_=2, max_=3)\n",
    "toolbox.register(\"individual\", tools.initIterate, creator.Individual, toolbox.expr)\n",
    "toolbox.register(\"population\", tools.initRepeat, list, toolbox.individual)\n",
    "toolbox.register(\"compile\", gp.compile, pset=pset)\n",
    "toolbox.register(\"evaluate\", evaluate, G= G)\n",
    "toolbox.register(\"select\", tools.selTournament, tournsize=3)\n",
    "toolbox.register(\"mate\", gp.cxOnePoint)\n",
    "toolbox.register(\"expr_mut\", gp.genFull, min_=0, max_=2)\n",
    "toolbox.register(\"mutate\", gp.mutUniform, expr=toolbox.expr_mut, pset=pset)\n",
    "\n",
    "toolbox.decorate(\"mate\", gp.staticLimit(key=operator.attrgetter(\"height\"), max_value=17))\n",
    "toolbox.decorate(\"mutate\", gp.staticLimit(key=operator.attrgetter(\"height\"), max_value=17))"
   ]
  },
  {
   "cell_type": "code",
   "execution_count": null,
   "metadata": {},
   "outputs": [],
   "source": [
    "%%time\n",
    "evaluate(toolbox.individual(),G)"
   ]
  },
  {
   "cell_type": "code",
   "execution_count": null,
   "metadata": {},
   "outputs": [],
   "source": [
    "fit_stats = tools.Statistics(key=operator.attrgetter(\"fitness.values\"))\n",
    "fit_stats.register('mean', np.mean)\n",
    "fit_stats.register('min', np.min)"
   ]
  },
  {
   "cell_type": "code",
   "execution_count": null,
   "metadata": {},
   "outputs": [],
   "source": [
    "pop = toolbox.population(n=50)\n",
    "pop, log = algorithms.eaSimple(pop, toolbox,\n",
    "                                 cxpb=0.8, mutpb=0.2,\n",
    "                                 ngen=20,stats=fit_stats,verbose=True)"
   ]
  },
  {
   "cell_type": "code",
   "execution_count": null,
   "metadata": {},
   "outputs": [],
   "source": [
    "%%time\n",
    "min_results =[]\n",
    "mean_results = []\n",
    "for index in tqdm(range(10)):\n",
    "    pop = toolbox.population(n=50)\n",
    "    pop, log = algorithms.eaSimple(pop, toolbox,\n",
    "                                 cxpb=0.8, mutpb=0.2,\n",
    "                                 ngen=20,stats=fit_stats,verbose=True)\n",
    "    min_results.append(np.min(log.select('min')))\n",
    "    mean_results.append(np.min(log.select('mean')))"
   ]
  },
  {
   "cell_type": "code",
   "execution_count": null,
   "metadata": {},
   "outputs": [],
   "source": [
    "plt.figure(figsize=(11, 4))\n",
    "plt.plot(log.select('mean'),label=\"mean\")\n",
    "plt.plot(log.select('min'),label=\"min\")\n",
    "plt.legend()\n",
    "plt.ylabel('Fitness'); plt.xlabel('Iterations');\n",
    "plt.title(\"eil51 symmetric mean training runs\")"
   ]
  },
  {
   "cell_type": "code",
   "execution_count": null,
   "metadata": {},
   "outputs": [],
   "source": [
    "tree = gp.PrimitiveTree(pop[1]) \n",
    "string_tree = str(tree)\n",
    "print(string_tree)"
   ]
  },
  {
   "cell_type": "code",
   "execution_count": null,
   "metadata": {},
   "outputs": [],
   "source": [
    "mean_distance = np.mean(min_results)\n",
    "min_distance = np.min(min_results)\n",
    "std_distance = np.std(min_results)"
   ]
  },
  {
   "cell_type": "code",
   "execution_count": null,
   "metadata": {},
   "outputs": [],
   "source": [
    "print(\"scores,mean:{},min:{},std:{}\".format(mean_distance,min_distance,std_distance))"
   ]
  }
 ],
 "metadata": {
  "kernelspec": {
   "display_name": "Python 3",
   "language": "python",
   "name": "python3"
  },
  "language_info": {
   "codemirror_mode": {
    "name": "ipython",
    "version": 3
   },
   "file_extension": ".py",
   "mimetype": "text/x-python",
   "name": "python",
   "nbconvert_exporter": "python",
   "pygments_lexer": "ipython3",
   "version": "3.8.5"
  }
 },
 "nbformat": 4,
 "nbformat_minor": 4
}
