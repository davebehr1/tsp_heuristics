{
 "cells": [
  {
   "cell_type": "code",
   "execution_count": null,
   "metadata": {},
   "outputs": [],
   "source": [
    "import networkx as nx\n",
    "import matplotlib.pyplot as plt\n",
    "import sys\n",
    "import tsplib95"
   ]
  },
  {
   "cell_type": "code",
   "execution_count": null,
   "metadata": {},
   "outputs": [],
   "source": [
    "problem = tsplib95.load('./symmetric_problems/gr21.tsp')\n",
    "# problem = tsplib95.load('./symmetric_problems/berlin52.tsp')\n",
    "G = problem.get_graph()"
   ]
  },
  {
   "cell_type": "code",
   "execution_count": null,
   "metadata": {},
   "outputs": [],
   "source": [
    "def getMin(G, mstFlag):\n",
    "    min_edge = 0\n",
    "    min = sys.maxsize  # assigning largest numeric value to min\n",
    "    for i in [(u, v, edata['weight']) for u, v, edata in G.edges( data = True) if 'length' in edata ]:\n",
    "        if mstFlag[i] == False and i[2] < min:\n",
    "            min = i[2]\n",
    "            min_edge = i\n",
    "    return min_edge"
   ]
  },
  {
   "cell_type": "code",
   "execution_count": null,
   "metadata": {},
   "outputs": [],
   "source": [
    "def findRoot(parent, i):\n",
    "    if parent[i] == i:\n",
    "        return i\n",
    "    return findRoot(parent, parent[i])"
   ]
  },
  {
   "cell_type": "code",
   "execution_count": null,
   "metadata": {},
   "outputs": [],
   "source": [
    "def union(parent, order, x, y):\n",
    "    xRoot = findRoot(parent, x)\n",
    "    yRoot = findRoot(parent, y)\n",
    "    # Attach smaller order tree under root of high order tree\n",
    "    if order[xRoot] < order[yRoot]:\n",
    "        parent[xRoot] = yRoot\n",
    "    elif order[xRoot] > order[yRoot]:\n",
    "        parent[yRoot] = xRoot\n",
    "    # If orders are same, then make any one as root and increment its order by one\n",
    "    else :\n",
    "        parent[yRoot] = xRoot\n",
    "        order[xRoot] += 1"
   ]
  },
  {
   "cell_type": "code",
   "execution_count": null,
   "metadata": {},
   "outputs": [],
   "source": [
    "def minimumWeightedMatching(MST, G, odd_vert):\n",
    "    while odd_vert:\n",
    "        v = odd_vert.pop()\n",
    "        length = float(\"inf\")\n",
    "        u = 1\n",
    "        closest = 0\n",
    "        for u in odd_vert:\n",
    "            if G[v][u]['weight'] < length :\n",
    "                length = G[v][u]['weight']\n",
    "                closest = u\n",
    "        MST.add_edge(v, closest, length = length)\n",
    "        odd_vert.remove(closest)\n",
    "  "
   ]
  },
  {
   "cell_type": "code",
   "execution_count": null,
   "metadata": {},
   "outputs": [],
   "source": [
    "MST = nx.minimum_spanning_tree(G)"
   ]
  },
  {
   "cell_type": "code",
   "execution_count": null,
   "metadata": {},
   "outputs": [],
   "source": [
    "MST.nodes()"
   ]
  },
  {
   "cell_type": "code",
   "execution_count": null,
   "metadata": {},
   "outputs": [],
   "source": [
    "def christofedes(G ,pos):\n",
    "    opGraph=nx.DiGraph()\n",
    "    #optimal_dist = 0\n",
    "    MST = nx.minimum_spanning_tree(G) # generates minimum spanning tree of graph G, using Prim's algo\n",
    "    odd_vert = [] #list containing vertices with odd degree\n",
    "    for i in MST.nodes():\n",
    "        if MST.degree(i)%2 != 0: \n",
    "            odd_vert.append(i) #if the degree of the vertex is odd, then append it to odd_vert list\n",
    "    minimumWeightedMatching(MST, G, odd_vert) #adds minimum weight matching edges to MST\n",
    "    # now MST has the Eulerian circuit\n",
    "    start = MST.nodes()[1]\n",
    "    visited = [False] * len(MST.nodes())\n",
    "    # finds the hamiltonian circuit\n",
    "    curr = 1\n",
    "    visited[curr] = True\n",
    "    for nd in MST.neighbors(curr):\n",
    "            if visited[nd] == False or nd == start:\n",
    "                next = nd\n",
    "                break\n",
    "    while next != start:\n",
    "        visited[next]=True\n",
    "        opGraph.add_edge(curr,next,length = G[curr][next]['weight'])\n",
    "        nx.draw_networkx_edges(G, pos, arrows = True, edgelist = [(curr, next)], width = 2.5, alpha = 0.6, edge_color = 'r')\n",
    "        # optimal_dist = optimal_dist + G[curr][next]['length']\n",
    "        # finding the shortest Eulerian path from MST\n",
    "        curr = next\n",
    "        for nd in MST.neighbors(curr):\n",
    "            if visited[nd] == False:\n",
    "                next = nd\n",
    "                break\n",
    "        if next == curr:\n",
    "            for nd in G.neighbors(curr):\n",
    "            if visited[nd] == False:\n",
    "                    next = nd\n",
    "                break\n",
    "    if next == curr:\n",
    "            next = start\n",
    "    opGraph.add_edge(curr,next,length = G[curr][next]['weight'])\n",
    "    nx.draw_networkx_edges(G, pos, edgelist = [(curr, next)], width = 2.5, alpha = 0.6, edge_color = 'r')\n",
    "    # optimal_dist = optimal_dist + G[curr][next]['length']\n",
    "    # print optimal_dist\n",
    "    return opGraph"
   ]
  },
  {
   "cell_type": "code",
   "execution_count": null,
   "metadata": {},
   "outputs": [],
   "source": [
    "def DrawGraph(G,color):\n",
    "    pos = nx.spring_layout(G)\n",
    "    nx.draw(G, pos, with_labels = True, edge_color = color)  #with_labels=true is to show the node number in the output graph\n",
    "    edge_labels = nx.get_edge_attributes(G,'weight')\n",
    "    nx.draw_networkx_edge_labels(G, pos, edge_labels = edge_labels,  font_size = 11) #prints weight on all the edges\n",
    "    return pos"
   ]
  },
  {
   "cell_type": "code",
   "execution_count": null,
   "metadata": {},
   "outputs": [],
   "source": [
    "pos = DrawGraph(G,'red')"
   ]
  },
  {
   "cell_type": "code",
   "execution_count": null,
   "metadata": {},
   "outputs": [],
   "source": [
    "opGraph = christofedes(G, pos)"
   ]
  }
 ],
 "metadata": {
  "kernelspec": {
   "display_name": "Python 3",
   "language": "python",
   "name": "python3"
  },
  "language_info": {
   "codemirror_mode": {
    "name": "ipython",
    "version": 3
   },
   "file_extension": ".py",
   "mimetype": "text/x-python",
   "name": "python",
   "nbconvert_exporter": "python",
   "pygments_lexer": "ipython3",
   "version": "3.6.12"
  }
 },
 "nbformat": 4,
 "nbformat_minor": 4
}
