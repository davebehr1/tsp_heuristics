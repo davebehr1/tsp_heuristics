{
 "cells": [
  {
   "cell_type": "code",
   "execution_count": 51,
   "metadata": {},
   "outputs": [],
   "source": [
    "import random\n",
    "import operator\n",
    "import math\n",
    "import numpy as np\n",
    "from deap import creator, base, tools, algorithms,gp\n",
    "import matplotlib.pyplot as plt\n",
    "import networkx as nx"
   ]
  },
  {
   "cell_type": "code",
   "execution_count": 13,
   "metadata": {},
   "outputs": [],
   "source": [
    "def protectedDiv(left, right):\n",
    "    try:\n",
    "        return left / right\n",
    "    except ZeroDivisionError:\n",
    "        return 1"
   ]
  },
  {
   "cell_type": "code",
   "execution_count": 14,
   "metadata": {},
   "outputs": [],
   "source": [
    "pset = gp.PrimitiveSet(\"MAIN\", 1)"
   ]
  },
  {
   "cell_type": "code",
   "execution_count": 15,
   "metadata": {},
   "outputs": [],
   "source": [
    "pset = gp.PrimitiveSet(\"MAIN\", 1)\n",
    "pset.addPrimitive(operator.add, 2)\n",
    "pset.addPrimitive(operator.sub, 2)\n",
    "pset.addPrimitive(operator.mul, 2)\n",
    "pset.addPrimitive(protectedDiv, 2)\n",
    "pset.addPrimitive(operator.neg, 1)\n",
    "pset.addPrimitive(math.cos, 1)\n",
    "pset.addPrimitive(math.sin, 1)\n",
    "pset.addEphemeralConstant(\"rand101\", lambda: random.randint(-1,1))"
   ]
  },
  {
   "cell_type": "code",
   "execution_count": 16,
   "metadata": {},
   "outputs": [],
   "source": [
    "creator.create(\"FitnessMin\", base.Fitness, weights=(-1.0,))"
   ]
  },
  {
   "cell_type": "code",
   "execution_count": 17,
   "metadata": {},
   "outputs": [],
   "source": [
    "creator.create(\"Individual\", gp.PrimitiveTree, fitness=creator.FitnessMin)"
   ]
  },
  {
   "cell_type": "code",
   "execution_count": 18,
   "metadata": {},
   "outputs": [],
   "source": [
    "toolbox = base.Toolbox()\n",
    "toolbox.register(\"expr\", gp.genHalfAndHalf, pset=pset, min_=1, max_=2)\n",
    "toolbox.register(\"individual\", tools.initIterate, creator.Individual, toolbox.expr)\n",
    "toolbox.register(\"population\", tools.initRepeat, list, toolbox.individual)\n",
    "toolbox.register(\"compile\", gp.compile, pset=pset)"
   ]
  },
  {
   "cell_type": "code",
   "execution_count": 40,
   "metadata": {},
   "outputs": [
    {
     "data": {
      "text/plain": [
       "'mul(sin(mul(ARG0, 1)), sub(protectedDiv(ARG0, ARG0), protectedDiv(ARG0, ARG0)))'"
      ]
     },
     "execution_count": 40,
     "metadata": {},
     "output_type": "execute_result"
    }
   ],
   "source": [
    "expr = gp.genFull(pset, min_=1, max_=3)\n",
    "tree = gp.PrimitiveTree(expr)\n",
    "str(tree)"
   ]
  },
  {
   "cell_type": "code",
   "execution_count": 49,
   "metadata": {},
   "outputs": [],
   "source": [
    "expr = toolbox.individual()\n",
    "nodes, edges, labels = gp.graph(expr)"
   ]
  },
  {
   "cell_type": "code",
   "execution_count": 58,
   "metadata": {},
   "outputs": [
    {
     "name": "stdout",
     "output_type": "stream",
     "text": [
      "[0, 1, 2, 3, 4, 5]\n"
     ]
    }
   ],
   "source": [
    "g = nx.Graph()\n",
    "g.add_nodes_from(nodes)\n",
    "g.add_edges_from(edges)\n",
    "\n",
    "print(g.nodes())\n",
    "# pos = nx.graphviz_layout(g, prog=\"dot\")\n",
    "\n",
    "# nx.draw_networkx_nodes(g, pos)\n",
    "# nx.draw_networkx_edges(g, pos)\n",
    "# nx.draw_networkx_labels(g, pos, labels)\n",
    "# plt.show()"
   ]
  },
  {
   "cell_type": "code",
   "execution_count": 60,
   "metadata": {},
   "outputs": [
    {
     "data": {
      "image/png": "[encoded data removed]",
      "text/plain": [
       "<Figure size 432x288 with 1 Axes>"
      ]
     },
     "metadata": {},
     "output_type": "display_data"
    }
   ],
   "source": [
    "nx.draw(g)\n",
    "#plt.savefig(\"simple_path.png\") # save as png\n",
    "plt.show() # display\n"
   ]
  },
  {
   "cell_type": "code",
   "execution_count": 33,
   "metadata": {},
   "outputs": [],
   "source": [
    "def evalSymbReg(individual, points):\n",
    "    # Transform the tree expression in a callable function\n",
    "    func = toolbox.compile(expr=individual)\n",
    "    # Evaluate the mean squared error between the expression\n",
    "    # and the real function : x**4 + x**3 + x**2 + x\n",
    "    sqerrors = ((func(x) - x**4 - x**3 - x**2 - x)**2 for x in points)\n",
    "    return math.fsum(sqerrors) / len(points),"
   ]
  },
  {
   "cell_type": "code",
   "execution_count": 20,
   "metadata": {},
   "outputs": [],
   "source": [
    "toolbox.register(\"evaluate\", evalSymbReg, points=[x/10. for x in range(-10,10)])\n",
    "toolbox.register(\"select\", tools.selTournament, tournsize=3)\n",
    "toolbox.register(\"mate\", gp.cxOnePoint)\n",
    "toolbox.register(\"expr_mut\", gp.genFull, min_=0, max_=2)\n",
    "toolbox.register(\"mutate\", gp.mutUniform, expr=toolbox.expr_mut, pset=pset)\n",
    "\n",
    "toolbox.decorate(\"mate\", gp.staticLimit(key=operator.attrgetter(\"height\"), max_value=17))\n",
    "toolbox.decorate(\"mutate\", gp.staticLimit(key=operator.attrgetter(\"height\"), max_value=17))"
   ]
  },
  {
   "cell_type": "code",
   "execution_count": 25,
   "metadata": {},
   "outputs": [],
   "source": [
    "stats_fit = tools.Statistics(lambda ind: ind.fitness.values)\n",
    "stats_size = tools.Statistics(len)\n",
    "mstats = tools.MultiStatistics(fitness=stats_fit, size=stats_size)\n",
    "mstats.register(\"avg\", np.mean)\n",
    "mstats.register(\"std\", np.std)\n",
    "mstats.register(\"min\", np.min)\n",
    "mstats.register(\"max\", np.max)"
   ]
  },
  {
   "cell_type": "code",
   "execution_count": 26,
   "metadata": {},
   "outputs": [],
   "source": [
    "pop = toolbox.population(n=300)"
   ]
  },
  {
   "cell_type": "code",
   "execution_count": 27,
   "metadata": {},
   "outputs": [],
   "source": [
    "hof = tools.HallOfFame(1)"
   ]
  },
  {
   "cell_type": "code",
   "execution_count": 28,
   "metadata": {},
   "outputs": [
    {
     "name": "stdout",
     "output_type": "stream",
     "text": [
      "   \t      \t                        fitness                        \t                     size                     \n",
      "   \t      \t-------------------------------------------------------\t----------------------------------------------\n",
      "gen\tnevals\tavg    \tgen\tmax    \tmin     \tnevals\tstd    \tavg \tgen\tmax\tmin\tnevals\tstd   \n",
      "0  \t300   \t5.72634\t0  \t1080.77\t0.165572\t300   \t62.3045\t3.58\t0  \t7  \t2  \t300   \t1.4867\n",
      "1  \t169   \t1.25574\t1  \t14.2339\t0.165572\t169   \t1.62287\t3.82667\t1  \t9  \t1  \t169   \t1.6114\n",
      "2  \t160   \t0.948164\t2  \t6.85956\t0.165572\t160   \t0.735051\t3.89667\t2  \t9  \t1  \t160   \t1.61431\n",
      "3  \t172   \t0.916662\t3  \t11.1136\t0.101561\t172   \t1.04345 \t4.32667\t3  \t9  \t1  \t172   \t1.7795 \n",
      "4  \t165   \t0.86923 \t4  \t14.1201\t0.101561\t165   \t0.977115\t4.66   \t4  \t11 \t1  \t165   \t1.98605\n",
      "5  \t153   \t0.71204 \t5  \t6.85956\t0.101561\t153   \t0.696858\t5.08667\t5  \t11 \t1  \t153   \t1.95938\n",
      "6  \t158   \t0.752486\t6  \t21.1252\t0.0517429\t158   \t1.38408 \t5.91333\t6  \t13 \t1  \t158   \t2.03121\n",
      "7  \t142   \t0.563512\t7  \t4.79275\t0.0517429\t142   \t0.612906\t6.26333\t7  \t13 \t1  \t142   \t1.88697\n",
      "8  \t157   \t0.582194\t8  \t18.9739\t0.0186654\t157   \t1.29946 \t6.78667\t8  \t14 \t2  \t157   \t1.82971\n",
      "9  \t198   \t0.555261\t9  \t5.61756\t0.0186654\t198   \t0.823954\t7.42   \t9  \t15 \t3  \t198   \t1.85928\n",
      "10 \t161   \t0.555009\t10 \t19.8805\t0.0186654\t161   \t1.52851 \t7.55   \t10 \t15 \t1  \t161   \t2.12623\n",
      "11 \t178   \t0.685631\t11 \t5.79956\t0.0186654\t178   \t1.02329 \t8.11333\t11 \t15 \t3  \t178   \t2.07697\n",
      "12 \t174   \t0.541658\t12 \t5.87622\t0.0186654\t174   \t0.906598\t8.26667\t12 \t16 \t1  \t174   \t2.0854 \n",
      "13 \t148   \t0.435311\t13 \t6.74187\t0.0171305\t148   \t0.825071\t8.66667\t13 \t16 \t1  \t148   \t2.31852\n",
      "14 \t163   \t0.379013\t14 \t4.79326\t0.0186654\t163   \t0.754286\t9.32667\t14 \t17 \t3  \t163   \t2.29782\n",
      "15 \t168   \t0.337364\t15 \t14.2339\t8.16594e-33\t168   \t1.00885 \t10.0267\t15 \t19 \t3  \t168   \t2.35357\n",
      "16 \t174   \t0.433678\t16 \t10.4187\t8.16594e-33\t174   \t1.1133  \t10.3833\t16 \t20 \t2  \t174   \t2.44467\n",
      "17 \t159   \t0.287363\t17 \t7.05189\t8.16594e-33\t159   \t0.681158\t10.8233\t17 \t20 \t5  \t159   \t2.5545 \n",
      "18 \t169   \t0.350821\t18 \t8.32137\t8.16594e-33\t169   \t0.839125\t10.91  \t18 \t18 \t1  \t169   \t2.4702 \n",
      "19 \t159   \t0.379878\t19 \t6.74187\t8.16594e-33\t159   \t0.856139\t10.97  \t19 \t20 \t1  \t159   \t2.69118\n",
      "20 \t167   \t0.286955\t20 \t7.3495 \t7.70372e-33\t167   \t0.699312\t11.4867\t20 \t20 \t2  \t167   \t2.72332\n",
      "21 \t167   \t0.236453\t21 \t2.93961\t7.70372e-33\t167   \t0.481432\t11.8067\t21 \t24 \t1  \t167   \t2.93302\n",
      "22 \t174   \t0.401202\t22 \t7.41453\t4.23705e-33\t174   \t0.880599\t12.1467\t22 \t24 \t1  \t174   \t3.35239\n",
      "23 \t163   \t0.289915\t23 \t12.3574\t4.23705e-33\t163   \t0.885322\t12.35  \t23 \t24 \t1  \t163   \t3.47671\n",
      "24 \t173   \t0.339302\t24 \t4.94807\t4.23705e-33\t173   \t0.731023\t12.0733\t24 \t26 \t1  \t173   \t3.16775\n",
      "25 \t162   \t0.273933\t25 \t14.9255\t4.23705e-33\t162   \t0.997828\t11.9933\t25 \t23 \t2  \t162   \t2.96647\n",
      "26 \t164   \t0.371297\t26 \t14.9255\t4.23705e-33\t164   \t1.08866 \t11.9067\t26 \t23 \t3  \t164   \t2.84335\n",
      "27 \t162   \t0.35251 \t27 \t6.76617\t4.23705e-33\t162   \t0.75253 \t12.09  \t27 \t23 \t1  \t162   \t3.36381\n",
      "28 \t158   \t0.267612\t28 \t4.02217\t4.23705e-33\t158   \t0.636779\t12.34  \t28 \t23 \t1  \t158   \t3.19339\n",
      "29 \t161   \t0.403548\t29 \t14.2339\t4.23705e-33\t161   \t1.35147 \t12.6233\t29 \t23 \t1  \t161   \t3.48063\n",
      "30 \t160   \t0.575983\t30 \t19.906 \t4.23705e-33\t160   \t1.65409 \t12.4967\t30 \t25 \t2  \t160   \t3.28481\n",
      "31 \t154   \t0.401014\t31 \t7.49332\t4.23705e-33\t154   \t1.15503 \t12.4833\t31 \t27 \t3  \t154   \t3.67011\n",
      "32 \t135   \t0.373362\t32 \t7.39014\t4.23705e-33\t135   \t0.866303\t12.4033\t32 \t27 \t3  \t135   \t2.99789\n",
      "33 \t180   \t0.465959\t33 \t15.6366\t4.23705e-33\t180   \t1.24178 \t12.4367\t33 \t30 \t1  \t180   \t3.34654\n",
      "34 \t176   \t0.547642\t34 \t28.534 \t4.23705e-33\t176   \t1.89963 \t12.4   \t34 \t34 \t1  \t176   \t4.01995\n",
      "35 \t163   \t0.349266\t35 \t11.6681\t4.23705e-33\t163   \t0.952233\t12.5   \t35 \t31 \t3  \t163   \t3.81007\n",
      "36 \t162   \t0.632062\t36 \t55.8409\t4.23705e-33\t162   \t3.45611 \t12.43  \t36 \t27 \t2  \t162   \t3.48211\n",
      "37 \t156   \t0.365725\t37 \t16.4697\t4.23705e-33\t156   \t1.31309 \t12.71  \t37 \t28 \t1  \t156   \t3.70485\n",
      "38 \t167   \t0.368214\t38 \t11.1875\t4.23705e-33\t167   \t1.08441 \t12.9233\t38 \t28 \t3  \t167   \t4.15421\n",
      "39 \t147   \t0.41682 \t39 \t11.0871\t4.23705e-33\t147   \t1.15913 \t13.2567\t39 \t28 \t2  \t147   \t4.35555\n",
      "40 \t149   \t0.416341\t40 \t16.5197\t4.23705e-33\t149   \t1.58769 \t13.6367\t40 \t33 \t3  \t149   \t4.73406\n"
     ]
    }
   ],
   "source": [
    "pop, log = algorithms.eaSimple(pop, toolbox, 0.5, 0.1, 40, stats=mstats,\n",
    "                                   halloffame=hof, verbose=True)"
   ]
  },
  {
   "cell_type": "code",
   "execution_count": null,
   "metadata": {},
   "outputs": [],
   "source": []
  }
 ],
 "metadata": {
  "kernelspec": {
   "display_name": "Python 3",
   "language": "python",
   "name": "python3"
  },
  "language_info": {
   "codemirror_mode": {
    "name": "ipython",
    "version": 3
   },
   "file_extension": ".py",
   "mimetype": "text/x-python",
   "name": "python",
   "nbconvert_exporter": "python",
   "pygments_lexer": "ipython3",
   "version": "3.6.12"
  }
 },
 "nbformat": 4,
 "nbformat_minor": 4
}
