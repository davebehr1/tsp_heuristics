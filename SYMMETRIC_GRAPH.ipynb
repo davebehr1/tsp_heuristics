{
 "cells": [
  {
   "cell_type": "code",
   "execution_count": 1,
   "metadata": {},
   "outputs": [
    {
     "name": "stdout",
     "output_type": "stream",
     "text": [
      "importing Jupyter notebook from tsp_parser.ipynb\n",
      "importing Jupyter notebook from city.ipynb\n"
     ]
    }
   ],
   "source": [
    "import numpy as np\n",
    "import math\n",
    "import operator\n",
    "import networkx as nx\n",
    "from itertools import permutations\n",
    "import matplotlib.pyplot as plt\n",
    "from deap import creator, base, tools, algorithms,gp\n",
    "import dimod\n",
    "import dwave_networkx as dnx\n",
    "import import_ipynb\n",
    "import tsp_parser\n",
    "from tsp_parser import read_tsp_file\n",
    "from operator import itemgetter\n",
    "import pygraphviz as pgv\n",
    "from IPython.display import Image "
   ]
  },
  {
   "cell_type": "code",
   "execution_count": 2,
   "metadata": {},
   "outputs": [],
   "source": [
    "tsp = read_tsp_file('./symmetric_problems/berlin52.tsp')"
   ]
  },
  {
   "cell_type": "code",
   "execution_count": 3,
   "metadata": {},
   "outputs": [
    {
     "data": {
      "text/plain": [
       "52"
      ]
     },
     "execution_count": 3,
     "metadata": {},
     "output_type": "execute_result"
    }
   ],
   "source": [
    "len(tsp['CITIES'])"
   ]
  },
  {
   "cell_type": "code",
   "execution_count": 4,
   "metadata": {},
   "outputs": [],
   "source": [
    "def plotGraph(G,show_weights=False):\n",
    "    pos=nx.get_node_attributes(G,'coord')\n",
    "    nx.draw(G,pos,with_labels=True)\n",
    "    labels = nx.get_edge_attributes(G,'weight')\n",
    "    if show_weights:\n",
    "        nx.draw_networkx_edge_labels(G,pos,edge_labels=labels)\n",
    "\n",
    "    plt.show()"
   ]
  },
  {
   "cell_type": "code",
   "execution_count": 5,
   "metadata": {},
   "outputs": [],
   "source": [
    "def distance(A, B): \n",
    "    \"The Euclidean distance between two cities.\"\n",
    "    return math.sqrt( ((A[0]-B[0])**2)+((A[1]-B[1])**2) )"
   ]
  },
  {
   "cell_type": "code",
   "execution_count": 6,
   "metadata": {},
   "outputs": [],
   "source": [
    "def total_distance(G):\n",
    "    total =0\n",
    "    for edge in G.edges: \n",
    "        total += distance(G.nodes[edge[0]][\"pos\"],G.nodes[edge[1]][\"pos\"])\n",
    "    return total"
   ]
  },
  {
   "cell_type": "code",
   "execution_count": 7,
   "metadata": {},
   "outputs": [],
   "source": [
    "G = nx.Graph()\n",
    "G=nx.complete_graph(52)"
   ]
  },
  {
   "cell_type": "code",
   "execution_count": 8,
   "metadata": {},
   "outputs": [],
   "source": [
    "for index,city in enumerate(tsp['CITIES']):\n",
    "    G.nodes[index]['pos'] = (city.x,city.y)"
   ]
  },
  {
   "cell_type": "code",
   "execution_count": 9,
   "metadata": {},
   "outputs": [],
   "source": [
    "nx.set_edge_attributes(G, values = 1, name = 'weight')"
   ]
  },
  {
   "cell_type": "code",
   "execution_count": 10,
   "metadata": {},
   "outputs": [],
   "source": [
    "#G.add_weighted_edges_from({(0, 1,0.1), (0, 2, .5), (0, 3, .1), (1, 2, .1),(1, 3, .5), (2, 3, .1)})"
   ]
  },
  {
   "cell_type": "code",
   "execution_count": 11,
   "metadata": {},
   "outputs": [
    {
     "data": {
      "text/plain": [
       "False"
      ]
     },
     "execution_count": 11,
     "metadata": {},
     "output_type": "execute_result"
    }
   ],
   "source": [
    "G.is_directed()"
   ]
  },
  {
   "cell_type": "code",
   "execution_count": 12,
   "metadata": {},
   "outputs": [
    {
     "data": {
      "text/plain": [
       "True"
      ]
     },
     "execution_count": 12,
     "metadata": {},
     "output_type": "execute_result"
    }
   ],
   "source": [
    "G.has_edge(1,0)"
   ]
  },
  {
   "cell_type": "code",
   "execution_count": null,
   "metadata": {},
   "outputs": [],
   "source": [
    "solution =[0]"
   ]
  },
  {
   "cell_type": "code",
   "execution_count": null,
   "metadata": {},
   "outputs": [],
   "source": [
    "def near(edges,solution):\n",
    "    distances =[]\n",
    "    for edge in edges:      \n",
    "        if edge[1] not in solution:\n",
    "            distances.append({\"distance\":distance(G.nodes[edge[0]]['pos'],G.nodes[edge[1]]['pos']),\"node\":edge[1]}) \n",
    "    nearest = min(distances, key=lambda x:x['distance'])\n",
    "    solution.append(nearest['node'])\n",
    "    return nearest "
   ]
  },
  {
   "cell_type": "code",
   "execution_count": null,
   "metadata": {},
   "outputs": [],
   "source": [
    "for node in range(51):\n",
    "    near(G.edges(solution[len(solution)-1]),solution)"
   ]
  },
  {
   "cell_type": "code",
   "execution_count": null,
   "metadata": {},
   "outputs": [],
   "source": [
    "solution.append(solution[0])"
   ]
  },
  {
   "cell_type": "code",
   "execution_count": null,
   "metadata": {},
   "outputs": [],
   "source": [
    "# pos=nx.get_node_attributes(G,'pos')\n",
    "# nx.draw(G,pos,with_labels=True)\n",
    "# labels = nx.get_edge_attributes(G,'weight')\n",
    "# nx.draw_networkx_edge_labels(G,pos,edge_labels=labels)\n",
    "# plt.show()"
   ]
  },
  {
   "cell_type": "code",
   "execution_count": null,
   "metadata": {},
   "outputs": [],
   "source": [
    "G.clear_edges()"
   ]
  },
  {
   "cell_type": "code",
   "execution_count": null,
   "metadata": {},
   "outputs": [],
   "source": [
    "for index in range(len(solution)-1):\n",
    "    #print(solution[index],solution[index+1])\n",
    "    G.add_edge(solution[index],solution[index+1])"
   ]
  },
  {
   "cell_type": "code",
   "execution_count": null,
   "metadata": {},
   "outputs": [],
   "source": [
    "def plotGraph(G,show_weights=False):\n",
    "    pos=nx.get_node_attributes(G,'pos')\n",
    "    nx.draw(G,pos,with_labels=True)\n",
    "    labels = nx.get_edge_attributes(G,'weight')\n",
    "    if show_weights:\n",
    "        nx.draw_networkx_edge_labels(G,pos,edge_labels=labels)\n",
    "\n",
    "    plt.show()"
   ]
  },
  {
   "cell_type": "code",
   "execution_count": null,
   "metadata": {},
   "outputs": [],
   "source": [
    "plotGraph(G)"
   ]
  },
  {
   "cell_type": "code",
   "execution_count": null,
   "metadata": {},
   "outputs": [],
   "source": [
    "print(total_distance(G))"
   ]
  },
  {
   "cell_type": "markdown",
   "metadata": {},
   "source": [
    "### DEAP EVOLUTIONARY ALGORITHMS"
   ]
  },
  {
   "cell_type": "code",
   "execution_count": null,
   "metadata": {},
   "outputs": [],
   "source": [
    "toolbox = base.Toolbox()\n",
    "creator.create(\"FitnessMin\", base.Fitness, weights=(-1.0,))\n",
    "creator.create(\"Individual\", list, fitness=creator.FitnessMin)"
   ]
  },
  {
   "cell_type": "code",
   "execution_count": null,
   "metadata": {},
   "outputs": [],
   "source": [
    "toolbox.register(\"indices\", np.random.permutation, len(tsp['CITIES']))\n",
    "toolbox.register(\"individual\", tools.initIterate, creator.Individual,\n",
    "                 toolbox.indices)\n",
    "toolbox.register(\"population\", tools.initRepeat, list, \n",
    "                 toolbox.individual)"
   ]
  },
  {
   "cell_type": "code",
   "execution_count": null,
   "metadata": {},
   "outputs": [],
   "source": [
    "toolbox.register(\"mate\", tools.cxOrdered)\n",
    "toolbox.register(\"mutate\", tools.mutShuffleIndexes, indpb=0.05)"
   ]
  },
  {
   "cell_type": "code",
   "execution_count": null,
   "metadata": {},
   "outputs": [],
   "source": [
    "def create_tour(individual):\n",
    "    G = nx.Graph()\n",
    "    G=nx.complete_graph(len(individual))\n",
    "    G.clear_edges()\n",
    "    for index,city in enumerate(tsp['CITIES']):\n",
    "        G.nodes[index]['pos'] = (city.x,city.y)\n",
    "        \n",
    "    for index in range(len(individual)-1):\n",
    "        G.add_edge(individual[index],individual[index+1])\n",
    "    G.add_edge(individual[len(individual)-1],individual[0])\n",
    "    \n",
    "    return G"
   ]
  },
  {
   "cell_type": "code",
   "execution_count": null,
   "metadata": {},
   "outputs": [],
   "source": [
    "def evaluation(individual):\n",
    "    return (total_distance(create_tour(individual)),)"
   ]
  },
  {
   "cell_type": "code",
   "execution_count": null,
   "metadata": {},
   "outputs": [],
   "source": [
    "toolbox.register(\"evaluate\", evaluation)"
   ]
  },
  {
   "cell_type": "code",
   "execution_count": null,
   "metadata": {},
   "outputs": [],
   "source": [
    "toolbox.register(\"select\", tools.selTournament, tournsize=3)"
   ]
  },
  {
   "cell_type": "code",
   "execution_count": null,
   "metadata": {},
   "outputs": [],
   "source": [
    "pop = toolbox.population(n=100)"
   ]
  },
  {
   "cell_type": "code",
   "execution_count": null,
   "metadata": {},
   "outputs": [],
   "source": [
    "plotGraph(create_tour(pop[2]))"
   ]
  },
  {
   "cell_type": "code",
   "execution_count": null,
   "metadata": {},
   "outputs": [],
   "source": [
    "fit_stats = tools.Statistics(key=operator.attrgetter(\"fitness.values\"))\n",
    "fit_stats.register('mean', np.mean)\n",
    "fit_stats.register('min', np.min)"
   ]
  },
  {
   "cell_type": "code",
   "execution_count": null,
   "metadata": {},
   "outputs": [],
   "source": [
    "result, log = algorithms.eaSimple(pop, toolbox,\n",
    "                             cxpb=0.8, mutpb=0.2,\n",
    "                             ngen=400, verbose=False,stats=fit_stats)"
   ]
  },
  {
   "cell_type": "code",
   "execution_count": null,
   "metadata": {},
   "outputs": [],
   "source": [
    "best_individual = tools.selBest(result, k=1)[0]\n",
    "print('Fitness of the best individual: ', evaluation(best_individual)[0])"
   ]
  },
  {
   "cell_type": "code",
   "execution_count": null,
   "metadata": {},
   "outputs": [],
   "source": [
    "G = create_tour(best_individual)"
   ]
  },
  {
   "cell_type": "code",
   "execution_count": null,
   "metadata": {},
   "outputs": [],
   "source": [
    "plotGraph(G)"
   ]
  },
  {
   "cell_type": "code",
   "execution_count": null,
   "metadata": {},
   "outputs": [],
   "source": [
    "plt.figure(figsize=(11, 4))\n",
    "plots = plt.plot(log.select('min'),'c-', log.select('mean'), 'b-')\n",
    "plt.legend(plots, ('Minimum fitness', 'Mean fitness'), frameon=True)\n",
    "plt.ylabel('Fitness'); plt.xlabel('Iterations');\n",
    "plt.title(\"berlin52 symetric graph\")"
   ]
  },
  {
   "cell_type": "markdown",
   "metadata": {},
   "source": [
    "### GENETIC PROGRAMMING"
   ]
  },
  {
   "cell_type": "code",
   "execution_count": 27,
   "metadata": {},
   "outputs": [],
   "source": [
    "def protectedDiv(left, right):\n",
    "    try:\n",
    "        return left / right\n",
    "    except ZeroDivisionError:\n",
    "        return 1"
   ]
  },
  {
   "cell_type": "code",
   "execution_count": 28,
   "metadata": {},
   "outputs": [],
   "source": [
    "def protectedMod(left, right):\n",
    "    try:\n",
    "        return left % right\n",
    "    except ZeroDivisionError:\n",
    "        return 1"
   ]
  },
  {
   "cell_type": "code",
   "execution_count": 29,
   "metadata": {},
   "outputs": [],
   "source": [
    "pset = gp.PrimitiveSet(\"MAIN\",4)\n",
    "pset.addPrimitive(operator.add, 2)\n",
    "pset.addPrimitive(operator.sub, 2)\n",
    "pset.addPrimitive(operator.mul, 2)\n",
    "pset.addPrimitive(protectedDiv, 2)\n",
    "pset.addPrimitive(protectedMod, 2)\n",
    "#Number of nodes in the graph\n",
    "pset.renameArguments(ARG0=\"Nn\")\n",
    "#Number of remaining nodes to visit\n",
    "pset.renameArguments(ARG1=\"Nrn\")\n",
    "#Distance from the current node\n",
    "pset.renameArguments(ARG2=\"Dcn\")\n",
    "#Distance from the initial node\n",
    "pset.renameArguments(ARG3=\"Din\")\n",
    "#Distance from the centroid of the nodes\n",
    "# pset.renameArguments(ARG0=\"Dc\")\n",
    "# #Predicted distance from the initial node\n",
    "# pset.renameArguments(ARG0=\"Pd\")\n",
    "# #Distance left estimation\n",
    "# pset.renameArguments(ARG0=\"Dle\")"
   ]
  },
  {
   "cell_type": "code",
   "execution_count": 30,
   "metadata": {},
   "outputs": [
    {
     "name": "stderr",
     "output_type": "stream",
     "text": [
      "/Users/mac/opt/anaconda3/envs/tsp/lib/python3.6/site-packages/deap/creator.py:141: RuntimeWarning: A class named 'FitnessMin' has already been created and it will be overwritten. Consider deleting previous creation of that class or rename it.\n",
      "  RuntimeWarning)\n"
     ]
    }
   ],
   "source": [
    "creator.create(\"FitnessMin\", base.Fitness, weights=(-1.0,))"
   ]
  },
  {
   "cell_type": "code",
   "execution_count": 31,
   "metadata": {},
   "outputs": [
    {
     "name": "stderr",
     "output_type": "stream",
     "text": [
      "/Users/mac/opt/anaconda3/envs/tsp/lib/python3.6/site-packages/deap/creator.py:141: RuntimeWarning: A class named 'Individual' has already been created and it will be overwritten. Consider deleting previous creation of that class or rename it.\n",
      "  RuntimeWarning)\n"
     ]
    }
   ],
   "source": [
    "creator.create(\"Individual\", gp.PrimitiveTree, fitness=creator.FitnessMin)"
   ]
  },
  {
   "cell_type": "code",
   "execution_count": 34,
   "metadata": {},
   "outputs": [],
   "source": [
    "toolbox = base.Toolbox()\n",
    "toolbox.register(\"expr\", gp.genHalfAndHalf, pset=pset, min_=2, max_=3)\n",
    "toolbox.register(\"individual\", tools.initIterate, creator.Individual, toolbox.expr)\n",
    "toolbox.register(\"population\", tools.initRepeat, list, toolbox.individual)\n",
    "toolbox.register(\"compile\", gp.compile, pset=pset)\n",
    "# toolbox.register(\"evaluate\", evaluate, G)"
   ]
  },
  {
   "cell_type": "code",
   "execution_count": 35,
   "metadata": {},
   "outputs": [],
   "source": [
    "pop = toolbox.population(n=300)"
   ]
  },
  {
   "cell_type": "code",
   "execution_count": 36,
   "metadata": {},
   "outputs": [
    {
     "name": "stdout",
     "output_type": "stream",
     "text": [
      "protectedMod(protectedMod(Nn, Din), add(Nrn, Din))\n"
     ]
    }
   ],
   "source": [
    "tree = gp.PrimitiveTree(pop[14]) \n",
    "string_tree = str(tree)\n",
    "print(string_tree)"
   ]
  },
  {
   "cell_type": "code",
   "execution_count": 37,
   "metadata": {},
   "outputs": [
    {
     "name": "stdout",
     "output_type": "stream",
     "text": [
      "mul(protectedDiv(add(Nrn, Dcn), Dcn), protectedMod(add(Dcn, Dcn), Nn))\n"
     ]
    }
   ],
   "source": [
    "expr = toolbox.individual()\n",
    "\n",
    "nodes, edges, labels = gp.graph(expr)\n",
    "\n",
    "tree = gp.PrimitiveTree(expr)\n",
    "string_tree = str(tree)\n",
    "print(string_tree)"
   ]
  },
  {
   "cell_type": "code",
   "execution_count": 140,
   "metadata": {},
   "outputs": [],
   "source": [
    "def evaluate(individual,G):\n",
    "    tree = gp.PrimitiveTree(individual)\n",
    "    string_tree = str(tree)\n",
    "    print(string_tree)\n",
    "\n",
    "\n",
    "    G.clear_edges()\n",
    "    node_results = [0]\n",
    "    current_node = 0\n",
    "    initial_node =0\n",
    "    visited = [0]\n",
    "    solution = [0]\n",
    "    for i in range(len(G.nodes)):\n",
    "        results = []\n",
    "        for index in range(len(G.nodes)):\n",
    "            if index not in visited:\n",
    "                Nn = len(G.nodes())\n",
    "                Nrn = len(np.setdiff1d(list(G.nodes),visited))\n",
    "                Dcn = distance(G.nodes[current_node][\"pos\"],G.nodes[index][\"pos\"])\n",
    "                Din = distance(G.nodes[initial_node][\"pos\"],G.nodes[index][\"pos\"])\n",
    "                result = toolbox.compile(expr=individual)\n",
    "                results.append({\"result\": result(Nn,Nrn,Dcn,Din),\"node\":index})\n",
    "        if not results:\n",
    "            break\n",
    "        nearest = min(results, key=lambda x:x['result'])\n",
    "        G.add_edge(current_node,nearest[\"node\"])\n",
    "        solution.append(nearest[\"node\"])\n",
    "        current_node = nearest[\"node\"]\n",
    "        visited.append(nearest[\"node\"])\n",
    "\n",
    "    G.add_edge(initial_node,solution[len(solution)-1])\n",
    "    return (total_distance(G),)"
   ]
  },
  {
   "cell_type": "code",
   "execution_count": 137,
   "metadata": {},
   "outputs": [
    {
     "name": "stdout",
     "output_type": "stream",
     "text": [
      "mul(sub(Dcn, sub(Dcn, Nrn)), sub(mul(Dcn, Dcn), sub(Nn, Din)))\n"
     ]
    }
   ],
   "source": [
    "individual = toolbox.individual()\n",
    "evaluate(individual,G)"
   ]
  },
  {
   "cell_type": "code",
   "execution_count": 138,
   "metadata": {},
   "outputs": [],
   "source": [
    "def plotGraph(G,show_weights=False):\n",
    "    pos=nx.get_node_attributes(G,'pos')\n",
    "    nx.draw(G,pos,with_labels=True)\n",
    "    labels = nx.get_edge_attributes(G,'weight')\n",
    "    if show_weights:\n",
    "        nx.draw_networkx_edge_labels(G,pos,edge_labels=labels)\n",
    "\n",
    "    plt.show()"
   ]
  },
  {
   "cell_type": "code",
   "execution_count": 139,
   "metadata": {},
   "outputs": [
    {
     "data": {
      "image/png": "[encoded data removed]",
      "text/plain": [
       "<Figure size 432x288 with 1 Axes>"
      ]
     },
     "metadata": {},
     "output_type": "display_data"
    }
   ],
   "source": [
    "plotGraph(G)"
   ]
  },
  {
   "cell_type": "code",
   "execution_count": null,
   "metadata": {},
   "outputs": [],
   "source": []
  }
 ],
 "metadata": {
  "kernelspec": {
   "display_name": "Python 3",
   "language": "python",
   "name": "python3"
  },
  "language_info": {
   "codemirror_mode": {
    "name": "ipython",
    "version": 3
   },
   "file_extension": ".py",
   "mimetype": "text/x-python",
   "name": "python",
   "nbconvert_exporter": "python",
   "pygments_lexer": "ipython3",
   "version": "3.6.12"
  }
 },
 "nbformat": 4,
 "nbformat_minor": 4
}
