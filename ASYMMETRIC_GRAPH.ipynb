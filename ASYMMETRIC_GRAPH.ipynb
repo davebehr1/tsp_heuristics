{
 "cells": [
  {
   "cell_type": "code",
   "execution_count": 1,
   "metadata": {},
   "outputs": [],
   "source": [
    "import numpy as np\n",
    "import math\n",
    "import operator\n",
    "import networkx as nx\n",
    "from itertools import permutations\n",
    "import matplotlib.pyplot as plt\n",
    "from deap import creator, base, tools, algorithms,gp\n",
    "import dimod\n",
    "import dwave_networkx as dnx\n",
    "from operator import itemgetter\n",
    "import tsplib95\n",
    "import copy\n",
    "import pygraphviz as pgv\n",
    "from IPython.display import Image "
   ]
  },
  {
   "cell_type": "code",
   "execution_count": 2,
   "metadata": {},
   "outputs": [],
   "source": [
    "problem = tsplib95.load('./asymmetric_problems/ft70.atsp')\n",
    "# problem = tsplib95.load('./symmetric_problems/berlin52.tsp')\n",
    "G = problem.get_graph()\n",
    "# tsp_problem = problem.as_keyword_dict()\n",
    "# list(problem.get_nodes())"
   ]
  },
  {
   "cell_type": "code",
   "execution_count": 3,
   "metadata": {},
   "outputs": [],
   "source": [
    "pos = nx.random_layout(G)"
   ]
  },
  {
   "cell_type": "code",
   "execution_count": 4,
   "metadata": {},
   "outputs": [
    {
     "data": {
      "text/plain": [
       "True"
      ]
     },
     "execution_count": 4,
     "metadata": {},
     "output_type": "execute_result"
    }
   ],
   "source": [
    "G.is_directed()"
   ]
  },
  {
   "cell_type": "code",
   "execution_count": 5,
   "metadata": {},
   "outputs": [
    {
     "data": {
      "text/plain": [
       "375"
      ]
     },
     "execution_count": 5,
     "metadata": {},
     "output_type": "execute_result"
    }
   ],
   "source": [
    "G.edges[0,1]['weight']"
   ]
  },
  {
   "cell_type": "code",
   "execution_count": 6,
   "metadata": {},
   "outputs": [],
   "source": [
    "def plotRandomLayoutGraph(G,show_weights=False):\n",
    "    pos = nx.random_layout(G)\n",
    "    nx.draw(G,pos,with_labels=True)\n",
    "    labels = nx.get_edge_attributes(G,'weight')\n",
    "    if show_weights:\n",
    "        nx.draw_networkx_edge_labels(G,pos,edge_labels=labels)\n",
    "\n",
    "    plt.show()"
   ]
  },
  {
   "cell_type": "code",
   "execution_count": null,
   "metadata": {},
   "outputs": [],
   "source": [
    "plotRandomLayoutGraph(G)"
   ]
  },
  {
   "cell_type": "code",
   "execution_count": 7,
   "metadata": {},
   "outputs": [
    {
     "data": {
      "text/plain": [
       "375"
      ]
     },
     "execution_count": 7,
     "metadata": {},
     "output_type": "execute_result"
    }
   ],
   "source": [
    "G.edges[0,1][\"weight\"]"
   ]
  },
  {
   "cell_type": "markdown",
   "metadata": {},
   "source": [
    "### DEAP EVOLUTIONARY ALGORITHMS"
   ]
  },
  {
   "cell_type": "code",
   "execution_count": null,
   "metadata": {},
   "outputs": [],
   "source": [
    "toolbox = base.Toolbox()\n",
    "creator.create(\"FitnessMin\", base.Fitness, weights=(-1.0,))\n",
    "creator.create(\"Individual\", list, fitness=creator.FitnessMin)"
   ]
  },
  {
   "cell_type": "code",
   "execution_count": null,
   "metadata": {},
   "outputs": [],
   "source": [
    "toolbox.register(\"indices\", np.random.permutation, len(G.nodes))\n",
    "toolbox.register(\"individual\", tools.initIterate, creator.Individual,\n",
    "                 toolbox.indices)\n",
    "toolbox.register(\"population\", tools.initRepeat, list, \n",
    "                 toolbox.individual)"
   ]
  },
  {
   "cell_type": "code",
   "execution_count": null,
   "metadata": {},
   "outputs": [],
   "source": [
    "toolbox.register(\"mate\", tools.cxOrdered)\n",
    "toolbox.register(\"mutate\", tools.mutShuffleIndexes, indpb=0.05)"
   ]
  },
  {
   "cell_type": "code",
   "execution_count": 8,
   "metadata": {},
   "outputs": [],
   "source": [
    "def evaluation(individual):\n",
    "    total_weights = []\n",
    "    for index in range(len(individual)-1):\n",
    "        total_weights.append(G.edges[individual[index],individual[index+1]]['weight'])\n",
    "        \n",
    "    total_weights.append(G.edges[individual[len(individual)-1],individual[0]]['weight'])\n",
    "    \n",
    "\n",
    "    \n",
    "    return (sum(total_weights),)"
   ]
  },
  {
   "cell_type": "code",
   "execution_count": null,
   "metadata": {},
   "outputs": [],
   "source": [
    "def create_tour(individual):\n",
    "    new_graph = nx.Graph()\n",
    "    new_graphG=nx.complete_graph(len(individual))\n",
    "    new_graph.clear_edges()\n",
    "    for index in range(len(individual)-1):\n",
    "        new_graph.add_edge(individual[index],individual[index+1])\n",
    "    new_graph.add_edge(individual[len(individual)-1],individual[0])\n",
    "    \n",
    "    return new_graph"
   ]
  },
  {
   "cell_type": "code",
   "execution_count": null,
   "metadata": {},
   "outputs": [],
   "source": [
    "toolbox.register(\"evaluate\", evaluation)"
   ]
  },
  {
   "cell_type": "code",
   "execution_count": null,
   "metadata": {},
   "outputs": [],
   "source": [
    "toolbox.register(\"select\", tools.selTournament, tournsize=3)"
   ]
  },
  {
   "cell_type": "code",
   "execution_count": null,
   "metadata": {},
   "outputs": [],
   "source": [
    "pop = toolbox.population(n=100)"
   ]
  },
  {
   "cell_type": "code",
   "execution_count": null,
   "metadata": {},
   "outputs": [],
   "source": [
    "evaluation(pop[5])"
   ]
  },
  {
   "cell_type": "code",
   "execution_count": null,
   "metadata": {},
   "outputs": [],
   "source": [
    "fit_stats = tools.Statistics(key=operator.attrgetter(\"fitness.values\"))\n",
    "fit_stats.register('mean', np.mean)\n",
    "fit_stats.register('min', np.min)"
   ]
  },
  {
   "cell_type": "code",
   "execution_count": null,
   "metadata": {},
   "outputs": [],
   "source": [
    "result, log = algorithms.eaSimple(pop, toolbox,\n",
    "                             cxpb=0.8, mutpb=0.2,\n",
    "                             ngen=400, verbose=False,stats=fit_stats)"
   ]
  },
  {
   "cell_type": "code",
   "execution_count": null,
   "metadata": {},
   "outputs": [],
   "source": [
    "best_individual = tools.selBest(result, k=1)[0]\n",
    "print('Fitness of the best individual: ', evaluation(best_individual)[0])"
   ]
  },
  {
   "cell_type": "code",
   "execution_count": null,
   "metadata": {},
   "outputs": [],
   "source": [
    "G = create_tour(best_individual)"
   ]
  },
  {
   "cell_type": "code",
   "execution_count": null,
   "metadata": {},
   "outputs": [],
   "source": [
    "plotRandomLayoutGraph(G)"
   ]
  },
  {
   "cell_type": "code",
   "execution_count": null,
   "metadata": {},
   "outputs": [],
   "source": [
    "plt.figure(figsize=(11, 4))\n",
    "plots = plt.plot(log.select('min'),'c-', log.select('mean'), 'b-')\n",
    "plt.legend(plots, ('Minimum fitness', 'Mean fitness'), frameon=True)\n",
    "plt.ylabel('Fitness'); plt.xlabel('Iterations');\n",
    "plt.title(\"ft70 assymetric graph\")\n",
    "plt.savefig()"
   ]
  },
  {
   "cell_type": "markdown",
   "metadata": {},
   "source": [
    "### GENETIC PROGRAMMING"
   ]
  },
  {
   "cell_type": "code",
   "execution_count": 9,
   "metadata": {},
   "outputs": [],
   "source": [
    "def Div(left, right):\n",
    "    try:\n",
    "        return left / right\n",
    "    except ZeroDivisionError:\n",
    "        return 1"
   ]
  },
  {
   "cell_type": "code",
   "execution_count": 10,
   "metadata": {},
   "outputs": [],
   "source": [
    "def Mod(left, right):\n",
    "    try:\n",
    "        return left % right\n",
    "    except ZeroDivisionError:\n",
    "        return 1"
   ]
  },
  {
   "cell_type": "code",
   "execution_count": 11,
   "metadata": {},
   "outputs": [],
   "source": [
    "pset = gp.PrimitiveSet(\"MAIN\",5)\n",
    "pset.addPrimitive(operator.add, 2)\n",
    "pset.addPrimitive(operator.sub, 2)\n",
    "pset.addPrimitive(operator.mul, 2)\n",
    "pset.addPrimitive(Div, 2)\n",
    "pset.addPrimitive(Mod, 2)\n",
    "#Number of nodes in the graph\n",
    "pset.renameArguments(ARG0=\"Nn\")\n",
    "#Number of remaining nodes to visit\n",
    "pset.renameArguments(ARG1=\"Nrn\")\n",
    "#Distance from the current node\n",
    "pset.renameArguments(ARG2=\"Dcn\")\n",
    "#Distance from the initial node\n",
    "pset.renameArguments(ARG3=\"Din\")\n",
    "#Distance from the centroid of the nodes\n",
    "# pset.renameArguments(ARG0=\"Dc\")\n",
    "# #Predicted distance from the initial node\n",
    "pset.renameArguments(ARG4=\"Pd\")\n",
    "# #Distance left estimation\n",
    "# pset.renameArguments(ARG0=\"Dle\")"
   ]
  },
  {
   "cell_type": "code",
   "execution_count": 12,
   "metadata": {},
   "outputs": [],
   "source": [
    "creator.create(\"FitnessMin\", base.Fitness, weights=(-1.0,))"
   ]
  },
  {
   "cell_type": "code",
   "execution_count": 13,
   "metadata": {},
   "outputs": [],
   "source": [
    "creator.create(\"Individual\", gp.PrimitiveTree, fitness=creator.FitnessMin)"
   ]
  },
  {
   "cell_type": "code",
   "execution_count": 14,
   "metadata": {},
   "outputs": [
    {
     "data": {
      "text/plain": [
       "375"
      ]
     },
     "execution_count": 14,
     "metadata": {},
     "output_type": "execute_result"
    }
   ],
   "source": [
    "G.edges[0,1]['weight']"
   ]
  },
  {
   "cell_type": "code",
   "execution_count": 15,
   "metadata": {},
   "outputs": [],
   "source": [
    "def nearest_neighbor(current,unvisited_nodes, G):\n",
    "    min_node = min(unvisited_nodes, key=lambda x: G.edges[x, current][\"weight\"])\n",
    "    return min_node"
   ]
  },
  {
   "cell_type": "code",
   "execution_count": 16,
   "metadata": {},
   "outputs": [],
   "source": [
    "def greedy_TSP(G,visited):\n",
    "    vis = copy.deepcopy(visited)\n",
    "    while len(vis) < 52:\n",
    "        C = nearest_neighbor(vis[-1], np.setdiff1d(list(G.nodes),vis),G)\n",
    "        vis.append(C)\n",
    "    vis.append(vis[0])\n",
    "    score = evaluation(vis)[0]\n",
    "    return score"
   ]
  },
  {
   "cell_type": "code",
   "execution_count": 17,
   "metadata": {},
   "outputs": [],
   "source": [
    "def evaluate(individual,G):\n",
    "    \n",
    "    new_graph = copy.deepcopy(G)\n",
    "    \n",
    "    \n",
    "    new_graph.clear_edges()\n",
    "    tree = gp.PrimitiveTree(individual)\n",
    "    \n",
    "    node_results = [0]\n",
    "    current_node = 0\n",
    "    initial_node =0\n",
    "    visited = [0]\n",
    "    solution = [0]\n",
    "    for i in range(len(G.nodes)):\n",
    "        results = []\n",
    "        for index in range(len(G.nodes)):\n",
    "            if index not in visited:\n",
    "                Nn = len(G.nodes())\n",
    "                Nrn = len(np.setdiff1d(list(G.nodes),visited))\n",
    "                Dcn = G.edges[current_node,index]['weight']\n",
    "                Din = G.edges[initial_node,index]['weight']\n",
    "                Pd = greedy_TSP(G,visited)\n",
    "                result = toolbox.compile(expr=individual)\n",
    "                results.append({\"result\": result(Nn,Nrn,Dcn,Din,Pd),\"node\":index})\n",
    "        if not results:\n",
    "            break\n",
    "        nearest = min(results, key=lambda x:x['result'])\n",
    "        new_graph.add_edge(current_node,nearest[\"node\"],weight=G.edges[current_node,nearest[\"node\"]]['weight'])\n",
    "        solution.append(nearest[\"node\"])\n",
    "        current_node = nearest[\"node\"]\n",
    "        visited.append(nearest[\"node\"])\n",
    "\n",
    "    new_graph.add_edge(initial_node,solution[len(solution)-1])\n",
    "    solution.append(initial_node)\n",
    "    return evaluation(solution)"
   ]
  },
  {
   "cell_type": "code",
   "execution_count": 18,
   "metadata": {},
   "outputs": [],
   "source": [
    "toolbox = base.Toolbox()\n",
    "toolbox.register(\"expr\", gp.genHalfAndHalf, pset=pset, min_=2, max_=3)\n",
    "toolbox.register(\"individual\", tools.initIterate, creator.Individual, toolbox.expr)\n",
    "toolbox.register(\"population\", tools.initRepeat, list, toolbox.individual)\n",
    "toolbox.register(\"compile\", gp.compile, pset=pset)\n",
    "toolbox.register(\"evaluate\", evaluate, G= G)\n",
    "toolbox.register(\"select\", tools.selTournament, tournsize=3)\n",
    "toolbox.register(\"mate\", gp.cxOnePoint)\n",
    "toolbox.register(\"expr_mut\", gp.genFull, min_=0, max_=2)\n",
    "toolbox.register(\"mutate\", gp.mutUniform, expr=toolbox.expr_mut, pset=pset)\n",
    "\n",
    "toolbox.decorate(\"mate\", gp.staticLimit(key=operator.attrgetter(\"height\"), max_value=17))\n",
    "toolbox.decorate(\"mutate\", gp.staticLimit(key=operator.attrgetter(\"height\"), max_value=17))"
   ]
  },
  {
   "cell_type": "code",
   "execution_count": 19,
   "metadata": {},
   "outputs": [
    {
     "data": {
      "text/plain": [
       "(10073360,)"
      ]
     },
     "execution_count": 19,
     "metadata": {},
     "output_type": "execute_result"
    }
   ],
   "source": [
    "evaluate(toolbox.individual(),G)"
   ]
  },
  {
   "cell_type": "code",
   "execution_count": 20,
   "metadata": {},
   "outputs": [],
   "source": [
    "pop = toolbox.population(n=10)"
   ]
  },
  {
   "cell_type": "code",
   "execution_count": 21,
   "metadata": {},
   "outputs": [],
   "source": [
    "# stats_fit = tools.Statistics(lambda ind: ind.fitness.values)\n",
    "# stats_size = tools.Statistics(len)\n",
    "# mstats = tools.MultiStatistics(fitness=stats_fit, size=stats_size)\n",
    "# mstats.register(\"avg\", np.mean)\n",
    "# mstats.register(\"std\", np.std)\n",
    "# mstats.register(\"min\", np.min)\n",
    "# mstats.register(\"max\", np.max)\n",
    "\n",
    "fit_stats = tools.Statistics(key=operator.attrgetter(\"fitness.values\"))\n",
    "fit_stats.register('mean', np.mean)\n",
    "fit_stats.register('min', np.min)"
   ]
  },
  {
   "cell_type": "code",
   "execution_count": 22,
   "metadata": {},
   "outputs": [
    {
     "name": "stdout",
     "output_type": "stream",
     "text": [
      "gen\tnevals\tmean      \tmin        \n",
      "0  \t10    \t1.0062e+07\t1.00432e+07\n",
      "1  \t10    \t1.00549e+07\t1.00432e+07\n",
      "2  \t6     \t1.00542e+07\t1.00432e+07\n",
      "3  \t10    \t1.00554e+07\t1.00432e+07\n",
      "4  \t8     \t1.00499e+07\t1.00432e+07\n",
      "5  \t10    \t1.00475e+07\t1.00432e+07\n"
     ]
    }
   ],
   "source": [
    "pop, log = algorithms.eaSimple(pop, toolbox,\n",
    "                             cxpb=0.8, mutpb=0.2,\n",
    "                             ngen=5,stats=fit_stats,verbose=True)"
   ]
  },
  {
   "cell_type": "markdown",
   "metadata": {},
   "source": [
    "### BEST INDIVIDUAL"
   ]
  },
  {
   "cell_type": "code",
   "execution_count": 23,
   "metadata": {},
   "outputs": [
    {
     "data": {
      "image/png": "[encoded data removed]",
      "text/plain": [
       "<IPython.core.display.Image object>"
      ]
     },
     "metadata": {},
     "output_type": "display_data"
    }
   ],
   "source": [
    "best_individual = tools.selBest(pop, k=1)[0]\n",
    "nodes, edges, labels = gp.graph(best_individual)\n",
    "# print('Fitness of the best individual: ', evaluation(best_individual)[0])\n",
    "\n",
    "g = pgv.AGraph()\n",
    "g.add_nodes_from(nodes)\n",
    "g.add_edges_from(edges)\n",
    "g.layout(prog=\"dot\")\n",
    "\n",
    "for i in nodes:\n",
    "    n = g.get_node(i)\n",
    "    n.attr[\"label\"] = labels[i]\n",
    "\n",
    "g.draw(\"./figures/tree.png\")\n",
    "\n",
    "pil_img = Image(filename='./figures/tree.png')\n",
    "display(pil_img)"
   ]
  },
  {
   "cell_type": "code",
   "execution_count": 24,
   "metadata": {},
   "outputs": [
    {
     "data": {
      "text/plain": [
       "Text(0.5, 1.0, 'berlin52 symetric graph')"
      ]
     },
     "execution_count": 24,
     "metadata": {},
     "output_type": "execute_result"
    },
    {
     "data": {
      "image/png": "[encoded data removed]",
      "text/plain": [
       "<Figure size 792x288 with 1 Axes>"
      ]
     },
     "metadata": {
      "needs_background": "light"
     },
     "output_type": "display_data"
    }
   ],
   "source": [
    "plt.figure(figsize=(11, 4))\n",
    "plots = plt.plot(log.select('min'),'c-', log.select('mean'), 'b-')\n",
    "plt.legend(plots, ('Minimum fitness', 'Mean fitness'), frameon=True)\n",
    "plt.ylabel('Fitness'); plt.xlabel('Iterations');\n",
    "plt.title(\"berlin52 symetric graph\")"
   ]
  },
  {
   "cell_type": "code",
   "execution_count": null,
   "metadata": {},
   "outputs": [],
   "source": []
  }
 ],
 "metadata": {
  "kernelspec": {
   "display_name": "Python 3",
   "language": "python",
   "name": "python3"
  },
  "language_info": {
   "codemirror_mode": {
    "name": "ipython",
    "version": 3
   },
   "file_extension": ".py",
   "mimetype": "text/x-python",
   "name": "python",
   "nbconvert_exporter": "python",
   "pygments_lexer": "ipython3",
   "version": "3.6.12"
  }
 },
 "nbformat": 4,
 "nbformat_minor": 4
}
