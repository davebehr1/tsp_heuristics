{
 "cells": [
  {
   "cell_type": "code",
   "execution_count": 31,
   "metadata": {},
   "outputs": [],
   "source": [
    "import numpy as np\n",
    "import math\n",
    "import operator\n",
    "import networkx as nx\n",
    "from itertools import permutations\n",
    "import matplotlib.pyplot as plt\n",
    "from deap import creator, base, tools, algorithms,gp\n",
    "import dimod\n",
    "import import_ipynb\n",
    "import Christofides\n",
    "from Christofides import christofedes,DrawGraph\n",
    "import dwave_networkx as dnx\n",
    "from operator import itemgetter\n",
    "import tsplib95\n",
    "import copy\n",
    "import pygraphviz as pgv\n",
    "from IPython.display import Image \n",
    "import sys\n",
    "from tqdm import tqdm\n",
    "import pytsp"
   ]
  },
  {
   "cell_type": "code",
   "execution_count": 25,
   "metadata": {},
   "outputs": [],
   "source": [
    "problem = tsplib95.load('./asymmetric_problems/ft70.atsp')\n",
    "# problem = tsplib95.load('./symmetric_problems/berlin52.tsp')\n",
    "G = problem.get_graph()\n",
    "# tsp_problem = problem.as_keyword_dict()\n",
    "# list(problem.get_nodes())"
   ]
  },
  {
   "cell_type": "code",
   "execution_count": 26,
   "metadata": {},
   "outputs": [],
   "source": [
    "pos = nx.random_layout(G)"
   ]
  },
  {
   "cell_type": "code",
   "execution_count": 28,
   "metadata": {},
   "outputs": [],
   "source": [
    "#dnx.traveling_salesperson(G, dimod.ExactSolver(), start=0)"
   ]
  },
  {
   "cell_type": "code",
   "execution_count": 29,
   "metadata": {},
   "outputs": [
    {
     "data": {
      "text/plain": [
       "1.0144927536231885"
      ]
     },
     "execution_count": 29,
     "metadata": {},
     "output_type": "execute_result"
    }
   ],
   "source": [
    "nx.density(G)"
   ]
  },
  {
   "cell_type": "code",
   "execution_count": null,
   "metadata": {},
   "outputs": [],
   "source": [
    "def plotRandomLayoutGraph(G,show_weights=False):\n",
    "    pos = nx.random_layout(G)\n",
    "    nx.draw(G,pos,with_labels=True)\n",
    "    labels = nx.get_edge_attributes(G,'weight')\n",
    "    if show_weights:\n",
    "        nx.draw_networkx_edge_labels(G,pos,edge_labels=labels)\n",
    "\n",
    "    plt.show()"
   ]
  },
  {
   "cell_type": "code",
   "execution_count": null,
   "metadata": {},
   "outputs": [],
   "source": [
    "plotRandomLayoutGraph(G)"
   ]
  },
  {
   "cell_type": "code",
   "execution_count": null,
   "metadata": {},
   "outputs": [],
   "source": [
    "def evaluation(individual):\n",
    "    total_weights = []\n",
    "    for index in range(len(individual)-1):\n",
    "        total_weights.append(G.edges[individual[index],individual[index+1]]['weight'])\n",
    "    return sum(total_weights),"
   ]
  },
  {
   "cell_type": "code",
   "execution_count": null,
   "metadata": {},
   "outputs": [],
   "source": [
    "def create_tour(individual):\n",
    "    new_graph = nx.Graph()\n",
    "    new_graphG=nx.complete_graph(len(individual))\n",
    "    new_graph.clear_edges()\n",
    "    for index in range(len(individual)-1):\n",
    "        new_graph.add_edge(individual[index],individual[index+1])\n",
    "    new_graph.add_edge(individual[len(individual)-1],individual[0])\n",
    "    \n",
    "    return new_graph"
   ]
  },
  {
   "cell_type": "markdown",
   "metadata": {},
   "source": [
    "### GENETIC PROGRAMMING"
   ]
  },
  {
   "cell_type": "code",
   "execution_count": null,
   "metadata": {},
   "outputs": [],
   "source": [
    "def Div(left, right):\n",
    "    try:\n",
    "        return left / right\n",
    "    except ZeroDivisionError:\n",
    "        return 1"
   ]
  },
  {
   "cell_type": "code",
   "execution_count": null,
   "metadata": {},
   "outputs": [],
   "source": [
    "def Mod(left, right):\n",
    "    try:\n",
    "        return left % right\n",
    "    except ZeroDivisionError:\n",
    "        return 1"
   ]
  },
  {
   "cell_type": "code",
   "execution_count": null,
   "metadata": {},
   "outputs": [],
   "source": [
    "pset = gp.PrimitiveSet(\"MAIN\",5)\n",
    "pset.addPrimitive(operator.add, 2)\n",
    "pset.addPrimitive(operator.sub, 2)\n",
    "pset.addPrimitive(operator.mul, 2)\n",
    "pset.addPrimitive(Div, 2)\n",
    "pset.addPrimitive(Mod, 2)\n",
    "#Number of nodes in the graph\n",
    "pset.renameArguments(ARG0=\"Nn\")\n",
    "#Number of remaining nodes to visit\n",
    "pset.renameArguments(ARG1=\"Nrn\")\n",
    "#Distance from the current node\n",
    "pset.renameArguments(ARG2=\"Dcn\")\n",
    "#Distance from the initial node\n",
    "pset.renameArguments(ARG3=\"Din\")\n",
    "#Predicted distance from the initial node\n",
    "pset.renameArguments(ARG4=\"Pd\")"
   ]
  },
  {
   "cell_type": "code",
   "execution_count": null,
   "metadata": {},
   "outputs": [],
   "source": [
    "creator.create(\"FitnessMin\", base.Fitness, weights=(-1.0,))"
   ]
  },
  {
   "cell_type": "code",
   "execution_count": null,
   "metadata": {},
   "outputs": [],
   "source": [
    "creator.create(\"Individual\", gp.PrimitiveTree, fitness=creator.FitnessMin)"
   ]
  },
  {
   "cell_type": "code",
   "execution_count": null,
   "metadata": {},
   "outputs": [],
   "source": [
    "G.edges[0,1]['weight']"
   ]
  },
  {
   "cell_type": "code",
   "execution_count": null,
   "metadata": {},
   "outputs": [],
   "source": [
    "def nearest_neighbor(current,unvisited_nodes, G):\n",
    "    min_node = min(unvisited_nodes, key=lambda x: G.edges[x, current][\"weight\"])\n",
    "    return min_node"
   ]
  },
  {
   "cell_type": "code",
   "execution_count": null,
   "metadata": {},
   "outputs": [],
   "source": [
    "def greedy_TSP(G,visited):\n",
    "    vis = copy.deepcopy(visited)\n",
    "    while len(vis) < len(G.nodes):\n",
    "        C = nearest_neighbor(vis[-1], np.setdiff1d(list(G.nodes),vis),G)\n",
    "        vis.append(C)\n",
    "    vis.append(vis[0])\n",
    "    score = evaluation(vis)\n",
    "    return score"
   ]
  },
  {
   "cell_type": "code",
   "execution_count": null,
   "metadata": {},
   "outputs": [],
   "source": [
    "greedy_TSP(G,[0])"
   ]
  },
  {
   "cell_type": "code",
   "execution_count": null,
   "metadata": {},
   "outputs": [],
   "source": [
    "def shortest_path(G,P):\n",
    "    total =0\n",
    "    for index in range(len(P)-1): \n",
    "        total += G.edges[P[index],P[index +1]][\"weight\"]\n",
    "    return total"
   ]
  },
  {
   "cell_type": "code",
   "execution_count": null,
   "metadata": {},
   "outputs": [],
   "source": [
    "def pred_shortest_path(G,unvisited,node):\n",
    "    un_visited = unvisited.tolist()\n",
    "    un_visited.insert(0,0)\n",
    "    sub_G = G.subgraph(un_visited)\n",
    "    return shortest_path(G,nx.dijkstra_path(sub_G,source=node,target=0))\n",
    "    #return sub_G"
   ]
  },
  {
   "cell_type": "code",
   "execution_count": null,
   "metadata": {},
   "outputs": [],
   "source": [
    "def evaluate(individual,G):    \n",
    "    tree = gp.PrimitiveTree(individual)\n",
    "    \n",
    "    node_results = [0]\n",
    "    current_node = 0\n",
    "    initial_node =0\n",
    "    visited = [0]\n",
    "    solution = [0]\n",
    "    unvisited = np.setdiff1d(list(G.nodes),visited)\n",
    "    while len(unvisited) > 1:\n",
    "        results = []\n",
    "        for index,node in enumerate(unvisited):\n",
    "            if index not in visited:\n",
    "                Nn = len(G.nodes())\n",
    "                Nrn = len(np.setdiff1d(list(G.nodes),visited))\n",
    "                Dcn = G.edges[current_node,index]['weight']\n",
    "                Din = G.edges[initial_node,index]['weight']\n",
    "                Pd = pred_shortest_path(G,unvisited,node)\n",
    "                result = toolbox.compile(expr=individual)\n",
    "                results.append({\"result\": result(Nn,Nrn,Dcn,Din,Pd),\"node\":index})\n",
    "        if not results:\n",
    "            break\n",
    "        nearest = min(results, key=lambda x:x['result'])\n",
    "        solution.append(nearest[\"node\"])\n",
    "        current_node = nearest[\"node\"]\n",
    "        visited.append(nearest[\"node\"])\n",
    "\n",
    "    solution.append(initial_node)\n",
    "    return evaluation(solution)"
   ]
  },
  {
   "cell_type": "code",
   "execution_count": null,
   "metadata": {},
   "outputs": [],
   "source": [
    "plotRandomLayoutGraph(G)"
   ]
  },
  {
   "cell_type": "code",
   "execution_count": null,
   "metadata": {},
   "outputs": [],
   "source": [
    "toolbox = base.Toolbox()\n",
    "toolbox.register(\"expr\", gp.genHalfAndHalf, pset=pset, min_=2, max_=3)\n",
    "toolbox.register(\"individual\", tools.initIterate, creator.Individual, toolbox.expr)\n",
    "toolbox.register(\"population\", tools.initRepeat, list, toolbox.individual)\n",
    "toolbox.register(\"compile\", gp.compile, pset=pset)\n",
    "toolbox.register(\"evaluate\", evaluate, G= G)\n",
    "toolbox.register(\"select\", tools.selTournament, tournsize=3)\n",
    "toolbox.register(\"mate\", gp.cxOnePoint)\n",
    "toolbox.register(\"expr_mut\", gp.genFull, min_=0, max_=2)\n",
    "toolbox.register(\"mutate\", gp.mutUniform, expr=toolbox.expr_mut, pset=pset)\n",
    "\n",
    "toolbox.decorate(\"mate\", gp.staticLimit(key=operator.attrgetter(\"height\"), max_value=17))\n",
    "toolbox.decorate(\"mutate\", gp.staticLimit(key=operator.attrgetter(\"height\"), max_value=17))"
   ]
  },
  {
   "cell_type": "code",
   "execution_count": null,
   "metadata": {},
   "outputs": [],
   "source": [
    "%%time\n",
    "evaluate(toolbox.individual(),G)"
   ]
  },
  {
   "cell_type": "code",
   "execution_count": null,
   "metadata": {},
   "outputs": [],
   "source": [
    "fit_stats = tools.Statistics(key=operator.attrgetter(\"fitness.values\"))\n",
    "fit_stats.register('mean', np.mean)\n",
    "fit_stats.register('min', np.min)"
   ]
  },
  {
   "cell_type": "code",
   "execution_count": null,
   "metadata": {},
   "outputs": [],
   "source": [
    "pop = toolbox.population(n=50)\n",
    "pop, log = algorithms.eaSimple(pop, toolbox,\n",
    "                         cxpb=0.8, mutpb=0.2,\n",
    "                         ngen=20,stats=fit_stats,verbose=True)"
   ]
  },
  {
   "cell_type": "code",
   "execution_count": null,
   "metadata": {},
   "outputs": [],
   "source": [
    "%%time\n",
    "min_results =[]\n",
    "mean_results = []\n",
    "for index in tqdm(range(10)):\n",
    "    pop = toolbox.population(n=50)\n",
    "    pop, log = algorithms.eaSimple(pop, toolbox,\n",
    "                             cxpb=0.8, mutpb=0.2,\n",
    "                             ngen=20,stats=fit_stats,verbose=True)\n",
    "    min_results.append(np.min(log.select('min')))\n",
    "    mean_results.append(np.min(log.select('mean')))"
   ]
  },
  {
   "cell_type": "markdown",
   "metadata": {},
   "source": [
    "### BEST INDIVIDUAL"
   ]
  },
  {
   "cell_type": "code",
   "execution_count": null,
   "metadata": {},
   "outputs": [],
   "source": [
    "best_individual = tools.selBest(pop, k=1)[0]\n",
    "nodes, edges, labels = gp.graph(best_individual)\n",
    "\n",
    "tree = gp.PrimitiveTree(best_individual)\n",
    "string_tree = str(tree)\n",
    "print(tree.height)\n",
    "# print('Fitness of the best individual: ', evaluation(best_individual)[0])\n",
    "\n",
    "g = pgv.AGraph()\n",
    "g.add_nodes_from(nodes)\n",
    "g.add_edges_from(edges)\n",
    "g.layout(prog=\"dot\")\n",
    "\n",
    "for i in nodes:\n",
    "    n = g.get_node(i)\n",
    "    n.attr[\"label\"] = labels[i]\n",
    "\n",
    "g.draw(\"./figures/tree.png\")\n",
    "\n",
    "pil_img = Image(filename='./figures/tree.png')\n",
    "display(pil_img)"
   ]
  },
  {
   "cell_type": "code",
   "execution_count": null,
   "metadata": {},
   "outputs": [],
   "source": [
    "plt.figure(figsize=(11, 4))\n",
    "plots = plt.plot(log.select('min'),'c-', log.select('mean'), 'b-')\n",
    "plt.legend(plots, ('Minimum fitness', 'Mean fitness'), frameon=True)\n",
    "plt.ylabel('Fitness'); plt.xlabel('Iterations');\n",
    "plt.title(\"br17 asymetric graph\")"
   ]
  },
  {
   "cell_type": "code",
   "execution_count": null,
   "metadata": {},
   "outputs": [],
   "source": [
    "mean_distance = np.mean(min_results)\n",
    "min_distance = np.min(min_results)\n",
    "std_distance = np.std(min_results)"
   ]
  },
  {
   "cell_type": "code",
   "execution_count": null,
   "metadata": {},
   "outputs": [],
   "source": [
    "print(\"scores,mean:{},min:{},std:{}\".format(mean_distance,min_distance,std_distance))"
   ]
  }
 ],
 "metadata": {
  "kernelspec": {
   "display_name": "Python 3",
   "language": "python",
   "name": "python3"
  },
  "language_info": {
   "codemirror_mode": {
    "name": "ipython",
    "version": 3
   },
   "file_extension": ".py",
   "mimetype": "text/x-python",
   "name": "python",
   "nbconvert_exporter": "python",
   "pygments_lexer": "ipython3",
   "version": "3.6.12"
  }
 },
 "nbformat": 4,
 "nbformat_minor": 4
}
