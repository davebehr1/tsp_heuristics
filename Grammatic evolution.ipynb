{
 "cells": [
  {
   "cell_type": "code",
   "execution_count": 5,
   "metadata": {},
   "outputs": [],
   "source": [
    "from pyneurgen.grammatical_evolution import GrammaticalEvolution\n",
    "from pyneurgen.fitness import FitnessElites, FitnessTournament\n",
    "from pyneurgen.fitness import ReplacementTournament, MAX, MIN, CENTER"
   ]
  },
  {
   "cell_type": "code",
   "execution_count": 6,
   "metadata": {},
   "outputs": [],
   "source": [
    "bnf =   \"\"\"\n",
    "<expr>              ::= <expr> <biop> <expr> | <uop> <expr> | <real> |\n",
    "                        math.log(abs(<expr>)) | <pow> | math.sin(<expr> )|\n",
    "                        value | (<expr>)\n",
    "<biop>              ::= + | - | * | /\n",
    "<uop>               ::= + | -\n",
    "<pow>               ::= pow(<expr>, <real>)\n",
    "<plus>              ::= +\n",
    "<minus>             ::= -\n",
    "<real>              ::= <int-const>.<int-const>\n",
    "<int-const>         ::= <int-const> | 1 | 2 | 3 | 4 | 5 | 6 |\n",
    "                        7 | 8 | 9 | 0\n",
    "<S>                 ::=\n",
    "import math\n",
    "total = 0.0\n",
    "for i in xrange(100):\n",
    "    value = float(i) / float(100)\n",
    "    total += abs(<expr> - pow(value, 3))\n",
    "fitness = total\n",
    "self.set_bnf_variable('<fitness>', fitness)\n",
    "        \"\"\""
   ]
  },
  {
   "cell_type": "code",
   "execution_count": 7,
   "metadata": {},
   "outputs": [],
   "source": [
    "options = ['+', '-', '*', '/']\n",
    "codon = 73\n",
    "choice_number = codon % len(options)\n",
    "choice = options[choice_number]"
   ]
  },
  {
   "cell_type": "code",
   "execution_count": 8,
   "metadata": {},
   "outputs": [
    {
     "ename": "NameError",
     "evalue": "name 'long' is not defined",
     "output_type": "error",
     "traceback": [
      "\u001b[0;31m---------------------------------------------------------------------------\u001b[0m",
      "\u001b[0;31mNameError\u001b[0m                                 Traceback (most recent call last)",
      "\u001b[0;32m<ipython-input-8-1734720f07e5>\u001b[0m in \u001b[0;36m<module>\u001b[0;34m\u001b[0m\n\u001b[1;32m      3\u001b[0m \u001b[0mges\u001b[0m\u001b[0;34m.\u001b[0m\u001b[0mset_bnf\u001b[0m\u001b[0;34m(\u001b[0m\u001b[0mbnf\u001b[0m\u001b[0;34m)\u001b[0m\u001b[0;34m\u001b[0m\u001b[0;34m\u001b[0m\u001b[0m\n\u001b[1;32m      4\u001b[0m ges.set_genotype_length(start_gene_length=20,\n\u001b[0;32m----> 5\u001b[0;31m                         max_gene_length=50)\n\u001b[0m\u001b[1;32m      6\u001b[0m \u001b[0mges\u001b[0m\u001b[0;34m.\u001b[0m\u001b[0mset_population_size\u001b[0m\u001b[0;34m(\u001b[0m\u001b[0;36m50\u001b[0m\u001b[0;34m)\u001b[0m\u001b[0;34m\u001b[0m\u001b[0;34m\u001b[0m\u001b[0m\n\u001b[1;32m      7\u001b[0m \u001b[0mges\u001b[0m\u001b[0;34m.\u001b[0m\u001b[0mset_wrap\u001b[0m\u001b[0;34m(\u001b[0m\u001b[0;32mTrue\u001b[0m\u001b[0;34m)\u001b[0m\u001b[0;34m\u001b[0m\u001b[0;34m\u001b[0m\u001b[0m\n",
      "\u001b[0;32m~/opt/anaconda3/envs/tsp/lib/python3.6/site-packages/pyneurgen/grammatical_evolution.py\u001b[0m in \u001b[0;36mset_genotype_length\u001b[0;34m(self, start_gene_length, max_gene_length)\u001b[0m\n\u001b[1;32m    165\u001b[0m             \u001b[0mmax_gene_length\u001b[0m \u001b[0;34m=\u001b[0m \u001b[0mstart_gene_length\u001b[0m\u001b[0;34m\u001b[0m\u001b[0;34m\u001b[0m\u001b[0m\n\u001b[1;32m    166\u001b[0m \u001b[0;34m\u001b[0m\u001b[0m\n\u001b[0;32m--> 167\u001b[0;31m         \u001b[0mstart_gene_length\u001b[0m \u001b[0;34m=\u001b[0m \u001b[0mlong\u001b[0m\u001b[0;34m(\u001b[0m\u001b[0mstart_gene_length\u001b[0m\u001b[0;34m)\u001b[0m\u001b[0;34m\u001b[0m\u001b[0;34m\u001b[0m\u001b[0m\n\u001b[0m\u001b[1;32m    168\u001b[0m         \u001b[0mmax_gene_length\u001b[0m \u001b[0;34m=\u001b[0m \u001b[0mlong\u001b[0m\u001b[0;34m(\u001b[0m\u001b[0mmax_gene_length\u001b[0m\u001b[0;34m)\u001b[0m\u001b[0;34m\u001b[0m\u001b[0;34m\u001b[0m\u001b[0m\n\u001b[1;32m    169\u001b[0m         \u001b[0;32mif\u001b[0m \u001b[0;32mnot\u001b[0m \u001b[0misinstance\u001b[0m\u001b[0;34m(\u001b[0m\u001b[0mstart_gene_length\u001b[0m\u001b[0;34m,\u001b[0m \u001b[0mlong\u001b[0m\u001b[0;34m)\u001b[0m\u001b[0;34m:\u001b[0m\u001b[0;34m\u001b[0m\u001b[0;34m\u001b[0m\u001b[0m\n",
      "\u001b[0;31mNameError\u001b[0m: name 'long' is not defined"
     ]
    }
   ],
   "source": [
    "ges = GrammaticalEvolution()\n",
    "\n",
    "ges.set_bnf(bnf)\n",
    "ges.set_genotype_length(start_gene_length=20,\n",
    "                        max_gene_length=50)\n",
    "ges.set_population_size(50)\n",
    "ges.set_wrap(True)"
   ]
  },
  {
   "cell_type": "code",
   "execution_count": null,
   "metadata": {},
   "outputs": [],
   "source": []
  }
 ],
 "metadata": {
  "kernelspec": {
   "display_name": "Python 3",
   "language": "python",
   "name": "python3"
  },
  "language_info": {
   "codemirror_mode": {
    "name": "ipython",
    "version": 3
   },
   "file_extension": ".py",
   "mimetype": "text/x-python",
   "name": "python",
   "nbconvert_exporter": "python",
   "pygments_lexer": "ipython3",
   "version": "3.6.12"
  }
 },
 "nbformat": 4,
 "nbformat_minor": 4
}
