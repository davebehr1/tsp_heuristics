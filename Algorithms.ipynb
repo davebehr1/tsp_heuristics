{
 "cells": [
  {
   "cell_type": "code",
   "execution_count": 1,
   "metadata": {},
   "outputs": [
    {
     "name": "stdout",
     "output_type": "stream",
     "text": [
      "importing Jupyter notebook from city.ipynb\n",
      "importing Jupyter notebook from tsp_parser.ipynb\n"
     ]
    }
   ],
   "source": [
    "from collections import deque\n",
    "import import_ipynb\n",
    "from city import distance, GeoCity, Euc_2D, GeoCoord\n",
    "from tsp_parser import read_tsp_file\n",
    "from numpy import array"
   ]
  },
  {
   "cell_type": "code",
   "execution_count": 2,
   "metadata": {},
   "outputs": [],
   "source": [
    "def calc_distance(tsp, city1_index, city2_index):\n",
    "    \"\"\"Calculate distance between cities by their (one-based) indices\"\"\"\n",
    "    cities = tsp[\"CITIES\"]\n",
    "    return distance(cities[city1_index - 1], cities[city2_index - 1])"
   ]
  },
  {
   "cell_type": "code",
   "execution_count": 3,
   "metadata": {},
   "outputs": [],
   "source": [
    "def path_length(tsp, path):\n",
    "    \"\"\"Find the length of a path of cities given as a list\"\"\"\n",
    "    if len(path) == 1:\n",
    "        return 0\n",
    "    else:\n",
    "        start_node = path.pop()\n",
    "        next_node = path[-1]\n",
    "        return calc_distance(tsp, start_node, next_node) + path_length(tsp, path)"
   ]
  },
  {
   "cell_type": "code",
   "execution_count": 4,
   "metadata": {},
   "outputs": [],
   "source": [
    "def tour_from_path(path):\n",
    "    \"\"\"Append the first city in a path to the end in order to obtain a tour\"\"\"\n",
    "    path.append(path[0])\n",
    "    return path"
   ]
  },
  {
   "cell_type": "code",
   "execution_count": 5,
   "metadata": {},
   "outputs": [],
   "source": [
    "def in_order_path(tsp):\n",
    "    \"\"\"Return the tour [1,2,...,n,1] where n is the dimension of the TSP\"\"\"\n",
    "    dim = tsp[\"DIMENSION\"]\n",
    "    return list(range(1, dim + 1))"
   ]
  },
  {
   "cell_type": "code",
   "execution_count": 6,
   "metadata": {},
   "outputs": [],
   "source": [
    "def in_order_tour(tsp):\n",
    "    \"\"\"Return the tour obtained by traveling to each city in order and\n",
    "circling around back to the first city\"\"\"\n",
    "    return tour_from_path(in_order_path(tsp))"
   ]
  },
  {
   "cell_type": "code",
   "execution_count": 7,
   "metadata": {},
   "outputs": [],
   "source": [
    "def calc_in_order_tour(tsp):\n",
    "    \"\"\"Calculate the distance of the in-order-tour for a tsp\"\"\"\n",
    "    return path_length(tsp, in_order_tour(tsp))"
   ]
  },
  {
   "cell_type": "code",
   "execution_count": 8,
   "metadata": {},
   "outputs": [],
   "source": [
    "def nearest_neighbor(tsp, untraveled_cities, current_city):\n",
    "    \"\"\"Given a set of city keys, find the key corresponding to the\n",
    "closest city\"\"\"\n",
    "    distance_to_current_city = lambda city: calc_distance(tsp, current_city, city)\n",
    "    return min(untraveled_cities, key=distance_to_current_city)"
   ]
  },
  {
   "cell_type": "code",
   "execution_count": 9,
   "metadata": {},
   "outputs": [],
   "source": [
    "def furthest_neighbor(tsp, untraveled_cities, current_city):\n",
    "    \"\"\"Given a set of city keys, find the key corresponding to the\n",
    "closest city\"\"\"\n",
    "    distance_to_current_city = lambda city: calc_distance(tsp, current_city, city)\n",
    "    return max(untraveled_cities, key=distance_to_current_city)"
   ]
  },
  {
   "cell_type": "code",
   "execution_count": 10,
   "metadata": {},
   "outputs": [],
   "source": [
    "def nearest_neighbor_tour(tsp):\n",
    "    \"\"\"Construct a tour through all cities in a TSP by following the nearest\n",
    "neighbor heuristic\"\"\"\n",
    "    nearest_neighbor_path = [1]\n",
    "    current_city = 1\n",
    "    cities_to_travel = set(range(2, tsp[\"DIMENSION\"] + 1))\n",
    "\n",
    "    while cities_to_travel:\n",
    "        current_city = nearest_neighbor(tsp, cities_to_travel, current_city)\n",
    "        nearest_neighbor_path.append(current_city)\n",
    "        cities_to_travel.remove(current_city)\n",
    "\n",
    "    return tour_from_path(nearest_neighbor_path)"
   ]
  },
  {
   "cell_type": "code",
   "execution_count": 11,
   "metadata": {},
   "outputs": [],
   "source": [
    "def furthest_neighbor_tour(tsp):\n",
    "    \"\"\"Construct a tour through all cities in a TSP by following the furthest\n",
    "neighbor heuristic\"\"\"\n",
    "    nearest_neighbor_path = [1]\n",
    "    current_city = 1\n",
    "    cities_to_travel = set(range(2, tsp[\"DIMENSION\"] + 1))\n",
    "\n",
    "    while cities_to_travel:\n",
    "        current_city = furthest_neighbor(tsp, cities_to_travel, current_city)\n",
    "        nearest_neighbor_path.append(current_city)\n",
    "        cities_to_travel.remove(current_city)\n",
    "\n",
    "    return tour_from_path(nearest_neighbor_path)"
   ]
  },
  {
   "cell_type": "code",
   "execution_count": 12,
   "metadata": {},
   "outputs": [],
   "source": [
    "def calc_nearest_neighbor_tour(tsp):\n",
    "    return path_length(tsp, nearest_neighbor_tour(tsp))"
   ]
  },
  {
   "cell_type": "code",
   "execution_count": 13,
   "metadata": {},
   "outputs": [],
   "source": [
    "def calc_furthest_neighbor_tour(tsp):\n",
    "    return path_length(tsp, furthest_neighbor_tour(tsp))"
   ]
  },
  {
   "cell_type": "code",
   "execution_count": null,
   "metadata": {},
   "outputs": [],
   "source": []
  }
 ],
 "metadata": {
  "kernelspec": {
   "display_name": "Python 3",
   "language": "python",
   "name": "python3"
  },
  "language_info": {
   "codemirror_mode": {
    "name": "ipython",
    "version": 3
   },
   "file_extension": ".py",
   "mimetype": "text/x-python",
   "name": "python",
   "nbconvert_exporter": "python",
   "pygments_lexer": "ipython3",
   "version": "3.6.12"
  }
 },
 "nbformat": 4,
 "nbformat_minor": 4
}
