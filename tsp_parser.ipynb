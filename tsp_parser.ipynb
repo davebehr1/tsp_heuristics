{
 "cells": [
  {
   "cell_type": "code",
   "execution_count": 1,
   "metadata": {},
   "outputs": [
    {
     "name": "stdout",
     "output_type": "stream",
     "text": [
      "importing Jupyter notebook from city.ipynb\n"
     ]
    }
   ],
   "source": [
    "from collections import deque\n",
    "import import_ipynb\n",
    "from city import GeoCoord, GeoCity, Euc_2D"
   ]
  },
  {
   "cell_type": "code",
   "execution_count": 2,
   "metadata": {},
   "outputs": [],
   "source": [
    "def minimal_tsp():\n",
    "    return { \"COMMENT\"          : \"\"\n",
    "           , \"DIMENSION\"        : None\n",
    "           , \"TYPE\"             : None\n",
    "           , \"EDGE_WEIGHT_TYPE\" : None\n",
    "           , \"CITIES\"           : []}"
   ]
  },
  {
   "cell_type": "code",
   "execution_count": 3,
   "metadata": {},
   "outputs": [],
   "source": [
    "def scan_keywords(tsp,tspfile):\n",
    "    for line in tspfile:\n",
    "        words   = deque(line.split())\n",
    "        keyword = words.popleft().strip(\": \")\n",
    "\n",
    "        if keyword == \"COMMENT\":\n",
    "            tsp[\"COMMENT\"] += \" \".join(words).strip(\": \")\n",
    "        elif keyword == \"NAME\":\n",
    "            tsp[\"NAME\"] = \" \".join(words).strip(\": \")\n",
    "        elif keyword == \"TYPE\":\n",
    "            tsp[\"TYPE\"] = \" \".join(words).strip(\": \")\n",
    "        elif keyword == \"DIMENSION\":\n",
    "            tsp[\"DIMENSION\"] = int(\" \".join(words).strip(\": \"))\n",
    "        elif keyword == \"EDGE_WEIGHT_TYPE\":\n",
    "            tsp[\"EDGE_WEIGHT_TYPE\"] = \" \".join(words).strip(\": \")\n",
    "        elif keyword == \"NODE_COORD_SECTION\":\n",
    "            break"
   ]
  },
  {
   "cell_type": "code",
   "execution_count": 4,
   "metadata": {},
   "outputs": [],
   "source": [
    "def read_int(words):\n",
    "    return int(words.popleft())"
   ]
  },
  {
   "cell_type": "code",
   "execution_count": 5,
   "metadata": {},
   "outputs": [],
   "source": [
    "def read_euc_2d_city(words):\n",
    "    x = float(words.popleft())\n",
    "    y = float(words.popleft())\n",
    "    return Euc_2D(x, y)"
   ]
  },
  {
   "cell_type": "code",
   "execution_count": 6,
   "metadata": {},
   "outputs": [],
   "source": [
    "def read_geo_coord(words):\n",
    "    [degrees, minutes] = map(int, words.popleft().split(\".\"))\n",
    "    return GeoCoord(degrees, minutes)\n"
   ]
  },
  {
   "cell_type": "code",
   "execution_count": 7,
   "metadata": {},
   "outputs": [],
   "source": [
    "def read_geo_city(words):\n",
    "    lat = read_geo_coord(words)\n",
    "    lon = read_geo_coord(words)\n",
    "    return GeoCity(lat, lon)"
   ]
  },
  {
   "cell_type": "code",
   "execution_count": 8,
   "metadata": {},
   "outputs": [],
   "source": [
    "def read_numbered_geo_city_line(desired_number, words):\n",
    "    city_number = read_int(words)\n",
    "    if city_number == desired_number:\n",
    "        return read_geo_city(words)\n",
    "    else:\n",
    "        print(\"Missing or mislabeld city: expected {0}\".format(desired_number))"
   ]
  },
  {
   "cell_type": "code",
   "execution_count": 9,
   "metadata": {},
   "outputs": [],
   "source": [
    "\n",
    "def read_numbered_euc_2d_city_line(desired_number, words):\n",
    "    city_number = read_int(words)\n",
    "    if city_number == desired_number:\n",
    "        return read_euc_2d_city(words)\n",
    "    else:\n",
    "        print(\"Missing or mislabeld city: expected {0}\".format(desired_number))"
   ]
  },
  {
   "cell_type": "code",
   "execution_count": 10,
   "metadata": {},
   "outputs": [],
   "source": [
    "def read_cities(tsp,tspfile):\n",
    "    for n in range(1, tsp[\"DIMENSION\"] + 1):\n",
    "        line  = tspfile.readline()\n",
    "        words = deque(line.split())\n",
    "        if tsp[\"EDGE_WEIGHT_TYPE\"] == \"EUC_2D\":\n",
    "            tsp[\"CITIES\"].append(read_numbered_euc_2d_city_line(n, words))\n",
    "        elif tsp[\"EDGE_WEIGHT_TYPE\"] == \"GEO\":\n",
    "            tsp[\"CITIES\"].append(read_numbered_geo_city_line(n, words))\n",
    "        else:\n",
    "            print(\"Unsupported coordinate type: \" + tsp[\"EDGE_WEIGHT_TYPE\"])"
   ]
  },
  {
   "cell_type": "code",
   "execution_count": 11,
   "metadata": {},
   "outputs": [],
   "source": [
    "def read_tsp_file(path):\n",
    "    tspfile = open(path,'r')\n",
    "    tsp     = minimal_tsp()\n",
    "    scan_keywords(tsp,tspfile)\n",
    "    read_cities(tsp,tspfile)\n",
    "    tspfile.close()\n",
    "    return tsp"
   ]
  },
  {
   "cell_type": "code",
   "execution_count": 13,
   "metadata": {},
   "outputs": [],
   "source": [
    "tsp = read_tsp_file('./symmetric_problems/berlin52.tsp')"
   ]
  },
  {
   "cell_type": "code",
   "execution_count": 19,
   "metadata": {},
   "outputs": [
    {
     "data": {
      "text/plain": [
       "565.0"
      ]
     },
     "execution_count": 19,
     "metadata": {},
     "output_type": "execute_result"
    }
   ],
   "source": [
    "tsp['CITIES'][0].x"
   ]
  },
  {
   "cell_type": "code",
   "execution_count": null,
   "metadata": {},
   "outputs": [],
   "source": []
  }
 ],
 "metadata": {
  "kernelspec": {
   "display_name": "Python 3",
   "language": "python",
   "name": "python3"
  },
  "language_info": {
   "codemirror_mode": {
    "name": "ipython",
    "version": 3
   },
   "file_extension": ".py",
   "mimetype": "text/x-python",
   "name": "python",
   "nbconvert_exporter": "python",
   "pygments_lexer": "ipython3",
   "version": "3.6.12"
  }
 },
 "nbformat": 4,
 "nbformat_minor": 4
}
